{
 "cells": [
  {
   "cell_type": "code",
   "execution_count": 1,
   "metadata": {},
   "outputs": [
    {
     "name": "stdout",
     "output_type": "stream",
     "text": [
      "Ambiente do Notebook pronto.\n"
     ]
    }
   ],
   "source": [
    "import pandas as pd\n",
    "import geopandas as gpd\n",
    "from sqlalchemy import create_engine\n",
    "import matplotlib.pyplot as plt\n",
    "from shapely.geometry import Point, LineString, MultiPoint\n",
    "from sklearn.cluster import KMeans, DBSCAN\n",
    "import matplotlib.pyplot as plt\n",
    "from itertools import combinations\n",
    "import numpy as np\n",
    "import json\n",
    "\n",
    "# Configurações de visualização\n",
    "pd.set_option('display.max_columns', 50)\n",
    "plt.rcParams['figure.figsize'] = (14, 10)\n",
    "\n",
    "# Conexão com o banco de dados (use suas credenciais)\n",
    "DB_USER = \"myuser\"\n",
    "DB_PASS = \"mypassword\"\n",
    "DB_HOST = \"localhost\" \n",
    "DB_PORT = \"5432\"\n",
    "DB_NAME = \"bus_predictions\"\n",
    "DATABASE_URL = f\"postgresql://{DB_USER}:{DB_PASS}@{DB_HOST}:{DB_PORT}/{DB_NAME}\"\n",
    "engine = create_engine(DATABASE_URL)\n",
    "\n",
    "print(\"Ambiente do Notebook pronto.\")"
   ]
  },
  {
   "cell_type": "code",
   "execution_count": 2,
   "metadata": {},
   "outputs": [
    {
     "name": "stdout",
     "output_type": "stream",
     "text": [
      "250120 registros carregados do banco de dados.\n"
     ]
    }
   ],
   "source": [
    "linha_alvo = 371\n",
    "data_inicio = '2024-04-25'\n",
    "data_fim = '2024-04-28'\n",
    "sql_query = f\"\"\"\n",
    "    SELECT * FROM gps_data \n",
    "    WHERE linha = '{linha_alvo}' \n",
    "    AND datahoraservidor >= '{data_inicio}' \n",
    "    AND datahoraservidor < '{data_fim}'\n",
    "\"\"\"\n",
    "try:\n",
    "    gdf = gpd.read_postgis(sql_query, engine, geom_col='geom')\n",
    "    print(f\"{len(gdf)} registros carregados do banco de dados.\")\n",
    "except Exception as e:\n",
    "    print(f\"Erro ao conectar ao banco de dados: {e}\")\n",
    "    # Criando um DataFrame de exemplo para continuar a execução sem DB\n",
    "    print(\"Criando um DataFrame de exemplo para demonstração.\")\n",
    "    data = {'ordem': ['A001']*100 + ['A002']*100,\n",
    "            'datahoraservidor': pd.to_datetime(pd.date_range('2024-04-25 08:00', periods=200, freq='T')),\n",
    "            'velocidade': np.random.randint(0, 60, 200),\n",
    "            'latitude': np.linspace(-22.90, -22.95, 100).tolist() + np.linspace(-22.95, -22.90, 100).tolist(),\n",
    "            'longitude': np.linspace(-43.20, -43.25, 100).tolist() + np.linspace(-43.25, -43.20, 100).tolist()\n",
    "           }\n",
    "    df_exemplo = pd.DataFrame(data)\n",
    "    gdf = gpd.GeoDataFrame(df_exemplo, geometry=gpd.points_from_xy(df_exemplo.longitude, df_exemplo.latitude))\n",
    "    gdf['geom'] = gdf['geometry'] # Renomeando para corresponder ao script"
   ]
  },
  {
   "cell_type": "markdown",
   "metadata": {},
   "source": [
    "## Limpeza e Validação dos Dados Carregados"
   ]
  },
  {
   "cell_type": "code",
   "execution_count": 3,
   "metadata": {},
   "outputs": [
    {
     "name": "stdout",
     "output_type": "stream",
     "text": [
      "Após a limpeza, restaram 212713 registros para a análise.\n"
     ]
    },
    {
     "data": {
      "text/html": [
       "<div>\n",
       "<style scoped>\n",
       "    .dataframe tbody tr th:only-of-type {\n",
       "        vertical-align: middle;\n",
       "    }\n",
       "\n",
       "    .dataframe tbody tr th {\n",
       "        vertical-align: top;\n",
       "    }\n",
       "\n",
       "    .dataframe thead th {\n",
       "        text-align: right;\n",
       "    }\n",
       "</style>\n",
       "<table border=\"1\" class=\"dataframe\">\n",
       "  <thead>\n",
       "    <tr style=\"text-align: right;\">\n",
       "      <th></th>\n",
       "      <th>id</th>\n",
       "      <th>ordem</th>\n",
       "      <th>latitude</th>\n",
       "      <th>longitude</th>\n",
       "      <th>datahora</th>\n",
       "      <th>velocidade</th>\n",
       "      <th>linha</th>\n",
       "      <th>datahoraenvio</th>\n",
       "      <th>datahoraservidor</th>\n",
       "      <th>geom</th>\n",
       "      <th>hora</th>\n",
       "    </tr>\n",
       "  </thead>\n",
       "  <tbody>\n",
       "    <tr>\n",
       "      <th>8720</th>\n",
       "      <td>1577204</td>\n",
       "      <td>B51539</td>\n",
       "      <td>-22.87856</td>\n",
       "      <td>-43.35818</td>\n",
       "      <td>2024-04-25 09:09:35</td>\n",
       "      <td>22</td>\n",
       "      <td>371</td>\n",
       "      <td>2024-04-25 09:09:48</td>\n",
       "      <td>2024-04-25 09:10:05</td>\n",
       "      <td>POINT (-43.35818 -22.87856)</td>\n",
       "      <td>9</td>\n",
       "    </tr>\n",
       "    <tr>\n",
       "      <th>8878</th>\n",
       "      <td>1580197</td>\n",
       "      <td>B51539</td>\n",
       "      <td>-22.87975</td>\n",
       "      <td>-43.35567</td>\n",
       "      <td>2024-04-25 09:10:05</td>\n",
       "      <td>40</td>\n",
       "      <td>371</td>\n",
       "      <td>2024-04-25 09:10:10</td>\n",
       "      <td>2024-04-25 09:10:35</td>\n",
       "      <td>POINT (-43.35567 -22.87975)</td>\n",
       "      <td>9</td>\n",
       "    </tr>\n",
       "    <tr>\n",
       "      <th>9017</th>\n",
       "      <td>1584723</td>\n",
       "      <td>B51539</td>\n",
       "      <td>-22.88116</td>\n",
       "      <td>-43.35225</td>\n",
       "      <td>2024-04-25 09:10:35</td>\n",
       "      <td>42</td>\n",
       "      <td>371</td>\n",
       "      <td>2024-04-25 09:10:41</td>\n",
       "      <td>2024-04-25 09:11:06</td>\n",
       "      <td>POINT (-43.35225 -22.88116)</td>\n",
       "      <td>9</td>\n",
       "    </tr>\n",
       "    <tr>\n",
       "      <th>9053</th>\n",
       "      <td>1589265</td>\n",
       "      <td>B51539</td>\n",
       "      <td>-22.88228</td>\n",
       "      <td>-43.34925</td>\n",
       "      <td>2024-04-25 09:11:05</td>\n",
       "      <td>31</td>\n",
       "      <td>371</td>\n",
       "      <td>2024-04-25 09:11:13</td>\n",
       "      <td>2024-04-25 09:11:37</td>\n",
       "      <td>POINT (-43.34925 -22.88228)</td>\n",
       "      <td>9</td>\n",
       "    </tr>\n",
       "    <tr>\n",
       "      <th>8759</th>\n",
       "      <td>1593818</td>\n",
       "      <td>B51539</td>\n",
       "      <td>-22.88260</td>\n",
       "      <td>-43.34834</td>\n",
       "      <td>2024-04-25 09:11:35</td>\n",
       "      <td>9</td>\n",
       "      <td>371</td>\n",
       "      <td>2024-04-25 09:11:45</td>\n",
       "      <td>2024-04-25 09:12:07</td>\n",
       "      <td>POINT (-43.34834 -22.8826)</td>\n",
       "      <td>9</td>\n",
       "    </tr>\n",
       "  </tbody>\n",
       "</table>\n",
       "</div>"
      ],
      "text/plain": [
       "           id   ordem  latitude  longitude            datahora  velocidade  \\\n",
       "8720  1577204  B51539 -22.87856  -43.35818 2024-04-25 09:09:35          22   \n",
       "8878  1580197  B51539 -22.87975  -43.35567 2024-04-25 09:10:05          40   \n",
       "9017  1584723  B51539 -22.88116  -43.35225 2024-04-25 09:10:35          42   \n",
       "9053  1589265  B51539 -22.88228  -43.34925 2024-04-25 09:11:05          31   \n",
       "8759  1593818  B51539 -22.88260  -43.34834 2024-04-25 09:11:35           9   \n",
       "\n",
       "     linha       datahoraenvio    datahoraservidor  \\\n",
       "8720   371 2024-04-25 09:09:48 2024-04-25 09:10:05   \n",
       "8878   371 2024-04-25 09:10:10 2024-04-25 09:10:35   \n",
       "9017   371 2024-04-25 09:10:41 2024-04-25 09:11:06   \n",
       "9053   371 2024-04-25 09:11:13 2024-04-25 09:11:37   \n",
       "8759   371 2024-04-25 09:11:45 2024-04-25 09:12:07   \n",
       "\n",
       "                             geom  hora  \n",
       "8720  POINT (-43.35818 -22.87856)     9  \n",
       "8878  POINT (-43.35567 -22.87975)     9  \n",
       "9017  POINT (-43.35225 -22.88116)     9  \n",
       "9053  POINT (-43.34925 -22.88228)     9  \n",
       "8759   POINT (-43.34834 -22.8826)     9  "
      ]
     },
     "metadata": {},
     "output_type": "display_data"
    }
   ],
   "source": [
    "# 1. Garante que os dados estão no formato correto e ordena\n",
    "gdf['datahoraservidor'] = pd.to_datetime(gdf['datahoraservidor'])\n",
    "gdf.sort_values(by=['ordem', 'datahoraservidor'], inplace=True)\n",
    "\n",
    "# 2. Filtra pelo horário de operação (08:00 até 22:59)\n",
    "gdf['hora'] = gdf['datahoraservidor'].dt.hour\n",
    "gdf_operacao = gdf[gdf['hora'].between(8, 22)].copy()\n",
    "\n",
    "# 3. Remove velocidades irreais e duplicatas\n",
    "gdf_operacao = gdf_operacao[gdf_operacao['velocidade'] <= 120]\n",
    "gdf_operacao.drop_duplicates(inplace=True)\n",
    "\n",
    "print(f\"Após a limpeza, restaram {len(gdf_operacao)} registros para a análise.\")\n",
    "display(gdf_operacao.head())"
   ]
  },
  {
   "cell_type": "markdown",
   "metadata": {},
   "source": [
    "## Identificar Pontos do Ônibus -> Separar Ida e Volta -> Construir Caminhos"
   ]
  },
  {
   "cell_type": "code",
   "execution_count": 4,
   "metadata": {},
   "outputs": [
    {
     "name": "stdout",
     "output_type": "stream",
     "text": [
      "Iniciando a identificação de terminais...\n",
      "Encontradas 396 paradas longas (potenciais pontos terminais).\n",
      "DBSCAN encontrou 45 clusters de terminais.\n",
      "Terminais A e B definidos com sucesso.\n"
     ]
    },
    {
     "name": "stderr",
     "output_type": "stream",
     "text": [
      "c:\\Users\\gupes\\REPOS\\datamining\\Data-Mining\\datamining\\Lib\\site-packages\\geopandas\\geodataframe.py:1981: SettingWithCopyWarning: \n",
      "A value is trying to be set on a copy of a slice from a DataFrame.\n",
      "Try using .loc[row_indexer,col_indexer] = value instead\n",
      "\n",
      "See the caveats in the documentation: https://pandas.pydata.org/pandas-docs/stable/user_guide/indexing.html#returning-a-view-versus-a-copy\n",
      "  super().__setitem__(key, value)\n"
     ]
    }
   ],
   "source": [
    "# --- ETAPA A: Identificar Pontos Terminais ---\n",
    "print(\"Iniciando a identificação de terminais...\")\n",
    "paradas = gdf_operacao[gdf_operacao['velocidade'] == 0].copy()\n",
    "paradas['tempo_diff_min'] = paradas.groupby('ordem')['datahoraservidor'].diff().dt.total_seconds() / 60\n",
    "paradas_terminais = paradas[paradas['tempo_diff_min'].between(10, 30)]\n",
    "print(f\"Encontradas {len(paradas_terminais)} paradas longas (potenciais pontos terminais).\")\n",
    "\n",
    "# --- ETAPA B: Seleção Robusta dos 2 Terminais Principais ---\n",
    "terminal_A, terminal_B = None, None\n",
    "if len(paradas_terminais) >= 2:\n",
    "    # Usando DBSCAN para agrupar pontos de parada geograficamente próximos\n",
    "    clustering = DBSCAN(eps=0.001, min_samples=2).fit(paradas_terminais[['latitude', 'longitude']])\n",
    "    paradas_terminais['terminal_cluster'] = clustering.labels_\n",
    "    \n",
    "    # Calcula o centroide de cada cluster de terminal encontrado\n",
    "    terminais_encontrados = {\n",
    "        label: MultiPoint(paradas_terminais[paradas_terminais['terminal_cluster'] == label].geometry.tolist()).centroid\n",
    "        for label in paradas_terminais['terminal_cluster'].unique() if label != -1\n",
    "    }\n",
    "    print(f\"DBSCAN encontrou {len(terminais_encontrados)} clusters de terminais.\")\n",
    "    \n",
    "    # Seleciona os dois terminais principais\n",
    "    if len(terminais_encontrados) >= 2:\n",
    "        if len(terminais_encontrados) == 2:\n",
    "            terminal_A, terminal_B = list(terminais_encontrados.values())\n",
    "        else: # Se houver mais de 2 clusters, escolhe o par mais distante entre si\n",
    "            pontos_terminais = list(terminais_encontrados.values())\n",
    "            max_dist, melhor_par = 0, (None, None)\n",
    "            for p1, p2 in combinations(pontos_terminais, 2):\n",
    "                dist = p1.distance(p2)\n",
    "                if dist > max_dist:\n",
    "                    max_dist, melhor_par = dist, (p1, p2)\n",
    "            terminal_A, terminal_B = melhor_par\n",
    "        print(\"Terminais A e B definidos com sucesso.\")\n",
    "\n",
    "if not (terminal_A and terminal_B):\n",
    "    print(\"\\nAVISO: Não foi possível definir os dois terminais principais. A criação da rota pode falhar ou ser imprecisa.\")"
   ]
  },
  {
   "cell_type": "markdown",
   "metadata": {},
   "source": [
    "### PLOT 1: Visualização dos Clusters de Terminais\n",
    "\n",
    "Este gráfico ajuda a validar se a identificação dos terminais foi bem-sucedida.\n",
    "\n",
    "* **Pontos de GPS (cinza):** Todos os registros de localização como plano de fundo.\n",
    "* **Paradas Longas (colorido):** Pontos onde o ônibus ficou parado por um tempo significativo, coloridos pelo cluster ao qual pertencem (pontos roxos são ruído/outliers).\n",
    "* **Centroides dos Terminais (vermelho):** O centro geográfico de cada cluster de terminal encontrado pelo DBSCAN."
   ]
  },
  {
   "cell_type": "code",
   "execution_count": 5,
   "metadata": {},
   "outputs": [
    {
     "data": {
      "image/png": "[encoded data removed]",
      "text/plain": [
       "<Figure size 1400x1000 with 1 Axes>"
      ]
     },
     "metadata": {},
     "output_type": "display_data"
    }
   ],
   "source": [
    "# --- Código de Plotagem para a Etapa 1 ---\n",
    "fig, ax = plt.subplots(1, 1, figsize=(14, 10))\n",
    "\n",
    "# Plota todos os pontos de operação como fundo\n",
    "gdf_operacao.plot(ax=ax, color='lightgray', markersize=1, alpha=0.5, label='Todos os Pontos')\n",
    "\n",
    "# Plota as paradas longas, coloridas por cluster do DBSCAN\n",
    "if 'terminal_cluster' in paradas_terminais.columns and not paradas_terminais.empty:\n",
    "    paradas_terminais.plot(\n",
    "        ax=ax, \n",
    "        column='terminal_cluster', \n",
    "        categorical=True, \n",
    "        markersize=50, \n",
    "        edgecolor='black',\n",
    "        legend=True,\n",
    "        legend_kwds={'title': \"Cluster de Terminal (DBSCAN)\"}\n",
    "    )\n",
    "\n",
    "# Plota os centroides dos clusters encontrados\n",
    "if 'terminais_encontrados' in locals() and terminais_encontrados:\n",
    "    terminais_geo = gpd.GeoSeries(terminais_encontrados)\n",
    "    terminais_geo.plot(ax=ax, color='red', marker='X', markersize=150, label='Centroide do Cluster')\n",
    "\n",
    "plt.title(\"Etapa 1: Identificação de Clusters de Terminais com DBSCAN\")\n",
    "plt.legend()\n",
    "plt.grid(True)\n",
    "plt.show()"
   ]
  },
  {
   "cell_type": "code",
   "execution_count": 6,
   "metadata": {},
   "outputs": [
    {
     "name": "stdout",
     "output_type": "stream",
     "text": [
      "\n",
      "Iniciando a separação de sentidos...\n",
      "Coluna 'sentido' criada com sucesso.\n",
      "sentido\n",
      "1.0    112875\n",
      "0.0     99442\n",
      "NaN       396\n",
      "Name: count, dtype: int64\n"
     ]
    }
   ],
   "source": [
    "# --- ETAPA C: Separar os Sentidos (Ida e Volta) ---\n",
    "trajetos_finais = {}\n",
    "gdf_operacao['sentido'] = np.nan # Inicializa a coluna\n",
    "\n",
    "if terminal_A and terminal_B:\n",
    "    print(\"\\nIniciando a separação de sentidos...\")\n",
    "    # Seleciona apenas os pontos que não são paradas terminais para clusterizar\n",
    "    pontos_em_movimento_idx = gdf_operacao.index.difference(paradas_terminais.index)\n",
    "    pontos_em_movimento = gdf_operacao.loc[pontos_em_movimento_idx].copy()\n",
    "\n",
    "    if len(pontos_em_movimento) > 2:\n",
    "        # Usando KMeans para dividir os pontos em dois grupos (ida e volta)\n",
    "        kmeans = KMeans(n_clusters=2, random_state=42, n_init='auto')\n",
    "        labels = kmeans.fit_predict(pontos_em_movimento[['latitude', 'longitude']])\n",
    "        gdf_operacao.loc[pontos_em_movimento.index, 'sentido'] = labels\n",
    "        print(\"Coluna 'sentido' criada com sucesso.\")\n",
    "        print(gdf_operacao['sentido'].value_counts(dropna=False))\n"
   ]
  },
  {
   "cell_type": "markdown",
   "metadata": {},
   "source": [
    "### PLOT 2: Visualização da Separação de Sentidos (Ida/Volta)\n",
    "\n",
    "Este gráfico é crucial para verificar se o algoritmo `KMeans` conseguiu separar corretamente as duas direções da linha de ônibus.\n",
    "\n",
    "* **Pontos por Sentido (colorido):** Cada ponto de GPS é colorido de acordo com o sentido atribuído (Sentido 0 ou Sentido 1), mostrando a separação geográfica das rotas.\n",
    "* **Terminais (dourado):** Os terminais A e B plotados como estrelas para dar contexto geográfico à separação."
   ]
  },
  {
   "cell_type": "code",
   "execution_count": 7,
   "metadata": {},
   "outputs": [
    {
     "data": {
      "image/png": "[encoded data removed]",
      "text/plain": [
       "<Figure size 1400x1000 with 1 Axes>"
      ]
     },
     "metadata": {},
     "output_type": "display_data"
    }
   ],
   "source": [
    "# --- Código de Plotagem para a Etapa 2 ---\n",
    "if terminal_A and terminal_B:\n",
    "    fig, ax = plt.subplots(1, 1, figsize=(14, 10))\n",
    "    \n",
    "    # Plota uma amostra dos pontos, coloridos pela coluna 'sentido'\n",
    "    if not gdf_operacao[gdf_operacao['sentido'].notna()].empty:\n",
    "        amostra_sentido = gdf_operacao.dropna(subset=['sentido']).sample(min(5000, len(gdf_operacao.dropna(subset=['sentido']))))\n",
    "        amostra_sentido.plot(\n",
    "            ax=ax, \n",
    "            column='sentido', \n",
    "            categorical=True, \n",
    "            markersize=5, \n",
    "            alpha=0.4, \n",
    "            legend=True,\n",
    "            legend_kwds={'title': \"Sentido (KMeans)\"}\n",
    "        )\n",
    "\n",
    "    # Plota os terminais A e B para referência\n",
    "    gpd.GeoSeries([terminal_A, terminal_B]).plot(ax=ax, color='gold', marker='*', markersize=250, edgecolor='black', label='Terminais Principais')\n",
    "    \n",
    "    plt.title(\"Etapa 2: Separação dos Sentidos de Ida e Volta com KMeans\")\n",
    "    plt.legend()\n",
    "    plt.grid(True)\n",
    "    plt.show()\n",
    "else:\n",
    "    print(\"Gráfico de sentidos não gerado pois os terminais A e B não foram definidos.\")"
   ]
  },
  {
   "cell_type": "code",
   "execution_count": 8,
   "metadata": {},
   "outputs": [
    {
     "name": "stdout",
     "output_type": "stream",
     "text": [
      "\n",
      "Construindo trajeto para o Sentido: 1...\n"
     ]
    },
    {
     "name": "stderr",
     "output_type": "stream",
     "text": [
      "C:\\Users\\gupes\\AppData\\Local\\Temp\\ipykernel_17784\\3994192357.py:9: UserWarning: Geometry is in a geographic CRS. Results from 'distance' are likely incorrect. Use 'GeoSeries.to_crs()' to re-project geometries to a projected CRS before this operation.\n",
      "\n",
      "  dist_media_A = pontos_sentido.head(10).geometry.distance(terminal_A).mean()\n",
      "C:\\Users\\gupes\\AppData\\Local\\Temp\\ipykernel_17784\\3994192357.py:10: UserWarning: Geometry is in a geographic CRS. Results from 'distance' are likely incorrect. Use 'GeoSeries.to_crs()' to re-project geometries to a projected CRS before this operation.\n",
      "\n",
      "  dist_media_B = pontos_sentido.head(10).geometry.distance(terminal_B).mean()\n",
      "C:\\Users\\gupes\\AppData\\Local\\Temp\\ipykernel_17784\\3994192357.py:14: UserWarning: Geometry is in a geographic CRS. Results from 'distance' are likely incorrect. Use 'GeoSeries.to_crs()' to re-project geometries to a projected CRS before this operation.\n",
      "\n",
      "  pontos_sentido['distancia_partida'] = pontos_sentido.geometry.distance(terminal_partida)\n"
     ]
    },
    {
     "name": "stdout",
     "output_type": "stream",
     "text": [
      "  - Trajeto para o sentido 1 criado com sucesso.\n",
      "\n",
      "Construindo trajeto para o Sentido: 0...\n"
     ]
    },
    {
     "name": "stderr",
     "output_type": "stream",
     "text": [
      "C:\\Users\\gupes\\AppData\\Local\\Temp\\ipykernel_17784\\3994192357.py:9: UserWarning: Geometry is in a geographic CRS. Results from 'distance' are likely incorrect. Use 'GeoSeries.to_crs()' to re-project geometries to a projected CRS before this operation.\n",
      "\n",
      "  dist_media_A = pontos_sentido.head(10).geometry.distance(terminal_A).mean()\n",
      "C:\\Users\\gupes\\AppData\\Local\\Temp\\ipykernel_17784\\3994192357.py:10: UserWarning: Geometry is in a geographic CRS. Results from 'distance' are likely incorrect. Use 'GeoSeries.to_crs()' to re-project geometries to a projected CRS before this operation.\n",
      "\n",
      "  dist_media_B = pontos_sentido.head(10).geometry.distance(terminal_B).mean()\n",
      "C:\\Users\\gupes\\AppData\\Local\\Temp\\ipykernel_17784\\3994192357.py:14: UserWarning: Geometry is in a geographic CRS. Results from 'distance' are likely incorrect. Use 'GeoSeries.to_crs()' to re-project geometries to a projected CRS before this operation.\n",
      "\n",
      "  pontos_sentido['distancia_partida'] = pontos_sentido.geometry.distance(terminal_partida)\n"
     ]
    },
    {
     "name": "stdout",
     "output_type": "stream",
     "text": [
      "  - Trajeto para o sentido 0 criado com sucesso.\n"
     ]
    }
   ],
   "source": [
    "# --- ETAPA D: Construir os Caminhos Canônicos ---\n",
    "if terminal_A and terminal_B:\n",
    "    for sentido_id in gdf_operacao['sentido'].dropna().unique():\n",
    "        print(f\"\\nConstruindo trajeto para o Sentido: {int(sentido_id)}...\")\n",
    "        pontos_sentido = gdf_operacao[gdf_operacao['sentido'] == sentido_id].copy()\n",
    "        if len(pontos_sentido) < 2: continue\n",
    "        \n",
    "        # Determina o terminal de partida para este sentido\n",
    "        dist_media_A = pontos_sentido.head(10).geometry.distance(terminal_A).mean()\n",
    "        dist_media_B = pontos_sentido.head(10).geometry.distance(terminal_B).mean()\n",
    "        terminal_partida = terminal_A if dist_media_A < dist_media_B else terminal_B\n",
    "        \n",
    "        # Ordena os pontos pela distância ao terminal de partida\n",
    "        pontos_sentido['distancia_partida'] = pontos_sentido.geometry.distance(terminal_partida)\n",
    "        pontos_ordenados = pontos_sentido.sort_values('distancia_partida')\n",
    "        \n",
    "        # Cria uma linha a partir dos pontos ordenados e a simplifica\n",
    "        linha_ordenada = LineString(pontos_ordenados.geometry.tolist())\n",
    "        trajeto_simplificado = linha_ordenada.simplify(tolerance=0.0001, preserve_topology=True)\n",
    "        trajetos_finais[sentido_id] = trajeto_simplificado\n",
    "        print(f\"  - Trajeto para o sentido {int(sentido_id)} criado com sucesso.\")"
   ]
  },
  {
   "cell_type": "markdown",
   "metadata": {},
   "source": [
    "### Etapa Adicional: Remoção de Outliers Espaciais\n",
    "\n",
    "Para garantir que estamos trabalhando apenas com dados relevantes, removemos os pontos de GPS que estão muito distantes dos trajetos canônicos que acabamos de criar. Isso elimina ruídos e dados incorretos."
   ]
  },
  {
   "cell_type": "code",
   "execution_count": 9,
   "metadata": {},
   "outputs": [
    {
     "name": "stdout",
     "output_type": "stream",
     "text": [
      "\n",
      "Iniciando a remoção de outliers espaciais...\n",
      "Remoção de outliers concluída.\n",
      "Registros antes: 212713\n",
      "Registros depois: 212317\n",
      "Registros removidos: 396\n"
     ]
    }
   ],
   "source": [
    "# --- ETAPA DE REMOÇÃO DE OUTLIERS ESPACIAIS ---\n",
    "print(\"\\nIniciando a remoção de outliers espaciais...\")\n",
    "\n",
    "if trajetos_finais:\n",
    "    # Define uma distância máxima em graus decimais (ajuste conforme necessário)\n",
    "    # 0.0005 graus é aproximadamente 55 metros. Pode ajustar este valor.\n",
    "    max_distancia_permitida = 0.0005\n",
    "\n",
    "    def distancia_do_ponto_ao_trajeto(row):\n",
    "        trajeto = trajetos_finais.get(row['sentido'])\n",
    "        if trajeto:\n",
    "            return row['geom'].distance(trajeto)\n",
    "        return np.inf # Retorna infinito se não houver trajeto\n",
    "\n",
    "    # Calcula a distância de cada ponto ao seu trajeto canônico\n",
    "    gdf_operacao['distancia_ao_trajeto'] = gdf_operacao.apply(distancia_do_ponto_ao_trajeto, axis=1)\n",
    "\n",
    "    # Filtra os pontos que estão dentro da distância permitida\n",
    "    total_antes = len(gdf_operacao)\n",
    "    gdf_operacao_sem_outliers = gdf_operacao[gdf_operacao['distancia_ao_trajeto'] <= max_distancia_permitida].copy()\n",
    "    total_depois = len(gdf_operacao_sem_outliers)\n",
    "    \n",
    "    # Remove a coluna auxiliar\n",
    "    gdf_operacao_sem_outliers.drop(columns=['distancia_ao_trajeto'], inplace=True)\n",
    "    gdf_operacao.drop(columns=['distancia_ao_trajeto'], inplace=True)\n",
    "    \n",
    "    print(f\"Remoção de outliers concluída.\")\n",
    "    print(f\"Registros antes: {total_antes}\")\n",
    "    print(f\"Registros depois: {total_depois}\")\n",
    "    print(f\"Registros removidos: {total_antes - total_depois}\")\n",
    "else:\n",
    "    print(\"AVISO: Remoção de outliers não executada pois os trajetos canônicos não foram criados.\")\n",
    "    gdf_operacao_sem_outliers = gdf_operacao.copy() # Mantém o dataframe original se a etapa falhar"
   ]
  },
  {
   "cell_type": "markdown",
   "metadata": {},
   "source": [
    "### PLOT 3: Resultado Final - Caminhos Canônicos (Após Limpeza de Outliers)\n",
    "\n",
    "Esta é a visualização final que consolida todos os resultados, agora usando os dados **sem outliers**:\n",
    "\n",
    "* **Pontos por Sentido (colorido):** Uma amostra dos pontos de GPS limpos.\n",
    "* **Terminais (dourado):** Os pontos finais A e B da rota.\n",
    "* **Caminho Canônico (preto, tracejado):** A rota de ida e volta final."
   ]
  },
  {
   "cell_type": "code",
   "execution_count": 10,
   "metadata": {},
   "outputs": [
    {
     "data": {
      "image/png": "[encoded data removed]",
      "text/plain": [
       "<Figure size 1400x1000 with 1 Axes>"
      ]
     },
     "metadata": {},
     "output_type": "display_data"
    }
   ],
   "source": [
    "# --- ETAPA E: Visualização Final (COM DADOS LIMPOS) ---\n",
    "if terminal_A and terminal_B and trajetos_finais:\n",
    "    fig, ax = plt.subplots(1, 1, figsize=(14, 10))\n",
    "    \n",
    "    # Plota amostra de pontos de operação por sentido (AGORA USANDO O DATAFRAME LIMPO)\n",
    "    if not gdf_operacao_sem_outliers[gdf_operacao_sem_outliers['sentido'].notna()].empty:\n",
    "        amostra = gdf_operacao_sem_outliers.dropna(subset=['sentido']).sample(min(5000, len(gdf_operacao_sem_outliers.dropna(subset=['sentido']))))\n",
    "        amostra.plot(ax=ax, column='sentido', categorical=True, markersize=1, alpha=0.3, legend=True)\n",
    "    \n",
    "    # Plota os caminhos canônicos\n",
    "    if trajetos_finais:\n",
    "        gpd.GeoSeries(trajetos_finais).plot(ax=ax, color='black', linewidth=3, linestyle='--', label='Caminho Canônico')\n",
    "    \n",
    "    # Plota os terminais\n",
    "    gpd.GeoSeries([terminal_A, terminal_B]).plot(ax=ax, color='gold', marker='*', markersize=200, edgecolor='black', label='Terminais')\n",
    "    \n",
    "    plt.title(\"Resultado Final: Caminhos Canônicos e Pontos de GPS sem Outliers\")\n",
    "    plt.legend()\n",
    "    plt.grid(True)\n",
    "    plt.show()\n",
    "else:\n",
    "    print(\"Gráfico final não gerado pois os terminais ou trajetos não foram definidos.\")"
   ]
  },
  {
   "cell_type": "markdown",
   "metadata": {},
   "source": [
    "## Feature Engineering: Criação de Variáveis para o Modelo de Machine Learning"
   ]
  },
  {
   "cell_type": "markdown",
   "metadata": {},
   "source": [
    "### Calcular Distância ao Longo do Trajeto"
   ]
  },
  {
   "cell_type": "code",
   "execution_count": 11,
   "metadata": {},
   "outputs": [
    {
     "name": "stdout",
     "output_type": "stream",
     "text": [
      "Coluna 'distancia_trajeto' criada com sucesso.\n"
     ]
    },
    {
     "data": {
      "application/vnd.microsoft.datawrangler.viewer.v0+json": {
       "columns": [
        {
         "name": "index",
         "rawType": "int64",
         "type": "integer"
        },
        {
         "name": "ordem",
         "rawType": "object",
         "type": "string"
        },
        {
         "name": "datahoraservidor",
         "rawType": "datetime64[ns]",
         "type": "datetime"
        },
        {
         "name": "sentido",
         "rawType": "float64",
         "type": "float"
        },
        {
         "name": "distancia_trajeto",
         "rawType": "float64",
         "type": "float"
        }
       ],
       "ref": "6e374850-5e49-41b4-ab0e-fc48ce519b4b",
       "rows": [
        [
         "8720",
         "B51539",
         "2024-04-25 09:10:05",
         "1.0",
         "93.30734993970383"
        ],
        [
         "8878",
         "B51539",
         "2024-04-25 09:10:35",
         "1.0",
         "92.03765896521085"
        ],
        [
         "9017",
         "B51539",
         "2024-04-25 09:11:06",
         "1.0",
         "91.17249246471992"
        ],
        [
         "9053",
         "B51539",
         "2024-04-25 09:11:37",
         "1.0",
         "90.78269296604287"
        ],
        [
         "8759",
         "B51539",
         "2024-04-25 09:12:07",
         "1.0",
         "90.71055938640542"
        ]
       ],
       "shape": {
        "columns": 4,
        "rows": 5
       }
      },
      "text/html": [
       "<div>\n",
       "<style scoped>\n",
       "    .dataframe tbody tr th:only-of-type {\n",
       "        vertical-align: middle;\n",
       "    }\n",
       "\n",
       "    .dataframe tbody tr th {\n",
       "        vertical-align: top;\n",
       "    }\n",
       "\n",
       "    .dataframe thead th {\n",
       "        text-align: right;\n",
       "    }\n",
       "</style>\n",
       "<table border=\"1\" class=\"dataframe\">\n",
       "  <thead>\n",
       "    <tr style=\"text-align: right;\">\n",
       "      <th></th>\n",
       "      <th>ordem</th>\n",
       "      <th>datahoraservidor</th>\n",
       "      <th>sentido</th>\n",
       "      <th>distancia_trajeto</th>\n",
       "    </tr>\n",
       "  </thead>\n",
       "  <tbody>\n",
       "    <tr>\n",
       "      <th>8720</th>\n",
       "      <td>B51539</td>\n",
       "      <td>2024-04-25 09:10:05</td>\n",
       "      <td>1.0</td>\n",
       "      <td>93.307350</td>\n",
       "    </tr>\n",
       "    <tr>\n",
       "      <th>8878</th>\n",
       "      <td>B51539</td>\n",
       "      <td>2024-04-25 09:10:35</td>\n",
       "      <td>1.0</td>\n",
       "      <td>92.037659</td>\n",
       "    </tr>\n",
       "    <tr>\n",
       "      <th>9017</th>\n",
       "      <td>B51539</td>\n",
       "      <td>2024-04-25 09:11:06</td>\n",
       "      <td>1.0</td>\n",
       "      <td>91.172492</td>\n",
       "    </tr>\n",
       "    <tr>\n",
       "      <th>9053</th>\n",
       "      <td>B51539</td>\n",
       "      <td>2024-04-25 09:11:37</td>\n",
       "      <td>1.0</td>\n",
       "      <td>90.782693</td>\n",
       "    </tr>\n",
       "    <tr>\n",
       "      <th>8759</th>\n",
       "      <td>B51539</td>\n",
       "      <td>2024-04-25 09:12:07</td>\n",
       "      <td>1.0</td>\n",
       "      <td>90.710559</td>\n",
       "    </tr>\n",
       "  </tbody>\n",
       "</table>\n",
       "</div>"
      ],
      "text/plain": [
       "       ordem    datahoraservidor  sentido  distancia_trajeto\n",
       "8720  B51539 2024-04-25 09:10:05      1.0          93.307350\n",
       "8878  B51539 2024-04-25 09:10:35      1.0          92.037659\n",
       "9017  B51539 2024-04-25 09:11:06      1.0          91.172492\n",
       "9053  B51539 2024-04-25 09:11:37      1.0          90.782693\n",
       "8759  B51539 2024-04-25 09:12:07      1.0          90.710559"
      ]
     },
     "metadata": {},
     "output_type": "display_data"
    }
   ],
   "source": [
    "def calcular_distancia_no_trajeto(row, trajetos_dict):\n",
    "    ponto = row['geom']\n",
    "    sentido = row['sentido']\n",
    "    trajeto = trajetos_dict.get(sentido)\n",
    "    \n",
    "    if trajeto:\n",
    "        # .project() retorna a distância do início da linha até o ponto mais próximo na linha\n",
    "        return trajeto.project(ponto)\n",
    "    \n",
    "    return None\n",
    "\n",
    "# Aplica a função para criar a nova coluna 'distancia_trajeto' USANDO OS DADOS LIMPOS\n",
    "gdf_com_sentido = gdf_operacao_sem_outliers.dropna(subset=['sentido']).copy()\n",
    "\n",
    "if not gdf_com_sentido.empty and trajetos_finais:\n",
    "    gdf_com_sentido['distancia_trajeto'] = gdf_com_sentido.apply(\n",
    "        lambda row: calcular_distancia_no_trajeto(row, trajetos_finais),\n",
    "        axis=1\n",
    "    )\n",
    "    print(\"Coluna 'distancia_trajeto' criada com sucesso.\")\n",
    "    display(gdf_com_sentido[['ordem', 'datahoraservidor', 'sentido', 'distancia_trajeto']].head())\n",
    "else:\n",
    "    print(\"Não foi possível calcular a distância do trajeto.\")"
   ]
  },
  {
   "cell_type": "markdown",
   "metadata": {},
   "source": [
    "### Features de Tempo"
   ]
  },
  {
   "cell_type": "code",
   "execution_count": 12,
   "metadata": {},
   "outputs": [
    {
     "name": "stdout",
     "output_type": "stream",
     "text": [
      "Features de tempo criadas com sucesso:\n"
     ]
    },
    {
     "data": {
      "application/vnd.microsoft.datawrangler.viewer.v0+json": {
       "columns": [
        {
         "name": "index",
         "rawType": "int64",
         "type": "integer"
        },
        {
         "name": "datahoraservidor",
         "rawType": "datetime64[ns]",
         "type": "datetime"
        },
        {
         "name": "hora_do_dia",
         "rawType": "int32",
         "type": "integer"
        },
        {
         "name": "minuto_do_dia",
         "rawType": "int32",
         "type": "integer"
        },
        {
         "name": "dia_da_semana",
         "rawType": "int32",
         "type": "integer"
        },
        {
         "name": "fim_de_semana",
         "rawType": "int64",
         "type": "integer"
        }
       ],
       "ref": "d4939cc2-ae38-4524-96d3-0a243d6d7a9f",
       "rows": [
        [
         "8720",
         "2024-04-25 09:10:05",
         "9",
         "550",
         "3",
         "0"
        ],
        [
         "8878",
         "2024-04-25 09:10:35",
         "9",
         "550",
         "3",
         "0"
        ],
        [
         "9017",
         "2024-04-25 09:11:06",
         "9",
         "551",
         "3",
         "0"
        ],
        [
         "9053",
         "2024-04-25 09:11:37",
         "9",
         "551",
         "3",
         "0"
        ],
        [
         "8759",
         "2024-04-25 09:12:07",
         "9",
         "552",
         "3",
         "0"
        ]
       ],
       "shape": {
        "columns": 5,
        "rows": 5
       }
      },
      "text/html": [
       "<div>\n",
       "<style scoped>\n",
       "    .dataframe tbody tr th:only-of-type {\n",
       "        vertical-align: middle;\n",
       "    }\n",
       "\n",
       "    .dataframe tbody tr th {\n",
       "        vertical-align: top;\n",
       "    }\n",
       "\n",
       "    .dataframe thead th {\n",
       "        text-align: right;\n",
       "    }\n",
       "</style>\n",
       "<table border=\"1\" class=\"dataframe\">\n",
       "  <thead>\n",
       "    <tr style=\"text-align: right;\">\n",
       "      <th></th>\n",
       "      <th>datahoraservidor</th>\n",
       "      <th>hora_do_dia</th>\n",
       "      <th>minuto_do_dia</th>\n",
       "      <th>dia_da_semana</th>\n",
       "      <th>fim_de_semana</th>\n",
       "    </tr>\n",
       "  </thead>\n",
       "  <tbody>\n",
       "    <tr>\n",
       "      <th>8720</th>\n",
       "      <td>2024-04-25 09:10:05</td>\n",
       "      <td>9</td>\n",
       "      <td>550</td>\n",
       "      <td>3</td>\n",
       "      <td>0</td>\n",
       "    </tr>\n",
       "    <tr>\n",
       "      <th>8878</th>\n",
       "      <td>2024-04-25 09:10:35</td>\n",
       "      <td>9</td>\n",
       "      <td>550</td>\n",
       "      <td>3</td>\n",
       "      <td>0</td>\n",
       "    </tr>\n",
       "    <tr>\n",
       "      <th>9017</th>\n",
       "      <td>2024-04-25 09:11:06</td>\n",
       "      <td>9</td>\n",
       "      <td>551</td>\n",
       "      <td>3</td>\n",
       "      <td>0</td>\n",
       "    </tr>\n",
       "    <tr>\n",
       "      <th>9053</th>\n",
       "      <td>2024-04-25 09:11:37</td>\n",
       "      <td>9</td>\n",
       "      <td>551</td>\n",
       "      <td>3</td>\n",
       "      <td>0</td>\n",
       "    </tr>\n",
       "    <tr>\n",
       "      <th>8759</th>\n",
       "      <td>2024-04-25 09:12:07</td>\n",
       "      <td>9</td>\n",
       "      <td>552</td>\n",
       "      <td>3</td>\n",
       "      <td>0</td>\n",
       "    </tr>\n",
       "  </tbody>\n",
       "</table>\n",
       "</div>"
      ],
      "text/plain": [
       "        datahoraservidor  hora_do_dia  minuto_do_dia  dia_da_semana  \\\n",
       "8720 2024-04-25 09:10:05            9            550              3   \n",
       "8878 2024-04-25 09:10:35            9            550              3   \n",
       "9017 2024-04-25 09:11:06            9            551              3   \n",
       "9053 2024-04-25 09:11:37            9            551              3   \n",
       "8759 2024-04-25 09:12:07            9            552              3   \n",
       "\n",
       "      fim_de_semana  \n",
       "8720              0  \n",
       "8878              0  \n",
       "9017              0  \n",
       "9053              0  \n",
       "8759              0  "
      ]
     },
     "metadata": {},
     "output_type": "display_data"
    }
   ],
   "source": [
    "# 1. Hora do dia (0-23)\n",
    "gdf_com_sentido['hora_do_dia'] = gdf_com_sentido['datahoraservidor'].dt.hour\n",
    "\n",
    "# 2. Dia da semana (Seg=0, Dom=6)\n",
    "gdf_com_sentido['dia_da_semana'] = gdf_com_sentido['datahoraservidor'].dt.dayofweek\n",
    "\n",
    "# 3. Minuto do dia (0-1439)\n",
    "gdf_com_sentido['minuto_do_dia'] = gdf_com_sentido['datahoraservidor'].dt.hour * 60 + gdf_com_sentido['datahoraservidor'].dt.minute\n",
    "\n",
    "# 4. Fim de semana (Binário)\n",
    "gdf_com_sentido['fim_de_semana'] = (gdf_com_sentido['dia_da_semana'] >= 5).astype(int)\n",
    "\n",
    "print(\"Features de tempo criadas com sucesso:\")\n",
    "display(\n",
    "    gdf_com_sentido[[\n",
    "        'datahoraservidor',\n",
    "        'hora_do_dia',\n",
    "        'minuto_do_dia',\n",
    "        'dia_da_semana',\n",
    "        'fim_de_semana'\n",
    "    ]].head()\n",
    ")"
   ]
  },
  {
   "cell_type": "markdown",
   "metadata": {},
   "source": [
    "### Features de Velocidade e Aceleração"
   ]
  },
  {
   "cell_type": "code",
   "execution_count": 13,
   "metadata": {},
   "outputs": [
    {
     "name": "stdout",
     "output_type": "stream",
     "text": [
      "Features de velocidade, aceleração e desvio padrão criadas.\n"
     ]
    },
    {
     "name": "stderr",
     "output_type": "stream",
     "text": [
      "C:\\Users\\gupes\\AppData\\Local\\Temp\\ipykernel_17784\\2521078007.py:7: FutureWarning: A value is trying to be set on a copy of a DataFrame or Series through chained assignment using an inplace method.\n",
      "The behavior will change in pandas 3.0. This inplace method will never work because the intermediate object on which we are setting values always behaves as a copy.\n",
      "\n",
      "For example, when doing 'df[col].method(value, inplace=True)', try using 'df.method({col: value}, inplace=True)' or df[col] = df[col].method(value) instead, to perform the operation inplace on the original object.\n",
      "\n",
      "\n",
      "  gdf_com_sentido['velocidade_recente_media'].fillna(method='ffill', inplace=True)\n",
      "C:\\Users\\gupes\\AppData\\Local\\Temp\\ipykernel_17784\\2521078007.py:7: FutureWarning: Series.fillna with 'method' is deprecated and will raise in a future version. Use obj.ffill() or obj.bfill() instead.\n",
      "  gdf_com_sentido['velocidade_recente_media'].fillna(method='ffill', inplace=True)\n",
      "C:\\Users\\gupes\\AppData\\Local\\Temp\\ipykernel_17784\\2521078007.py:8: FutureWarning: A value is trying to be set on a copy of a DataFrame or Series through chained assignment using an inplace method.\n",
      "The behavior will change in pandas 3.0. This inplace method will never work because the intermediate object on which we are setting values always behaves as a copy.\n",
      "\n",
      "For example, when doing 'df[col].method(value, inplace=True)', try using 'df.method({col: value}, inplace=True)' or df[col] = df[col].method(value) instead, to perform the operation inplace on the original object.\n",
      "\n",
      "\n",
      "  gdf_com_sentido['velocidade_recente_media'].fillna(0, inplace=True)\n"
     ]
    },
    {
     "data": {
      "application/vnd.microsoft.datawrangler.viewer.v0+json": {
       "columns": [
        {
         "name": "index",
         "rawType": "int64",
         "type": "integer"
        },
        {
         "name": "ordem",
         "rawType": "object",
         "type": "string"
        },
        {
         "name": "datahoraservidor",
         "rawType": "datetime64[ns]",
         "type": "datetime"
        },
        {
         "name": "velocidade",
         "rawType": "int64",
         "type": "integer"
        },
        {
         "name": "velocidade_recente_media",
         "rawType": "float64",
         "type": "float"
        },
        {
         "name": "aceleracao",
         "rawType": "float64",
         "type": "float"
        },
        {
         "name": "velocidade_std_recente",
         "rawType": "float64",
         "type": "float"
        }
       ],
       "ref": "2028949b-3d7f-4e1c-b0cf-96068de2ff5b",
       "rows": [
        [
         "8720",
         "B51539",
         "2024-04-25 09:10:05",
         "22",
         "22.0",
         "0.0",
         "0.0"
        ],
        [
         "8878",
         "B51539",
         "2024-04-25 09:10:35",
         "40",
         "31.0",
         "18.0",
         "12.727922061357855"
        ],
        [
         "9017",
         "B51539",
         "2024-04-25 09:11:06",
         "42",
         "34.666666666666664",
         "2.0",
         "11.015141094572204"
        ],
        [
         "9053",
         "B51539",
         "2024-04-25 09:11:37",
         "31",
         "33.75",
         "-11.0",
         "9.17877987534291"
        ],
        [
         "8759",
         "B51539",
         "2024-04-25 09:12:07",
         "9",
         "28.8",
         "-22.0",
         "13.627178724886527"
        ],
        [
         "8920",
         "B51539",
         "2024-04-25 09:12:38",
         "20",
         "28.4",
         "11.0",
         "13.903237033151669"
        ],
        [
         "8946",
         "B51539",
         "2024-04-25 09:13:09",
         "0",
         "20.4",
         "-20.0",
         "16.772000476985443"
        ],
        [
         "9204",
         "B51539",
         "2024-04-25 09:13:40",
         "27",
         "17.4",
         "27.0",
         "12.817956155331471"
        ],
        [
         "148197",
         "B51566",
         "2024-04-26 16:57:39",
         "22",
         "22.0",
         "0.0",
         "0.0"
        ],
        [
         "148246",
         "B51566",
         "2024-04-26 16:58:40",
         "22",
         "22.0",
         "0.0",
         "0.0"
        ]
       ],
       "shape": {
        "columns": 6,
        "rows": 10
       }
      },
      "text/html": [
       "<div>\n",
       "<style scoped>\n",
       "    .dataframe tbody tr th:only-of-type {\n",
       "        vertical-align: middle;\n",
       "    }\n",
       "\n",
       "    .dataframe tbody tr th {\n",
       "        vertical-align: top;\n",
       "    }\n",
       "\n",
       "    .dataframe thead th {\n",
       "        text-align: right;\n",
       "    }\n",
       "</style>\n",
       "<table border=\"1\" class=\"dataframe\">\n",
       "  <thead>\n",
       "    <tr style=\"text-align: right;\">\n",
       "      <th></th>\n",
       "      <th>ordem</th>\n",
       "      <th>datahoraservidor</th>\n",
       "      <th>velocidade</th>\n",
       "      <th>velocidade_recente_media</th>\n",
       "      <th>aceleracao</th>\n",
       "      <th>velocidade_std_recente</th>\n",
       "    </tr>\n",
       "  </thead>\n",
       "  <tbody>\n",
       "    <tr>\n",
       "      <th>8720</th>\n",
       "      <td>B51539</td>\n",
       "      <td>2024-04-25 09:10:05</td>\n",
       "      <td>22</td>\n",
       "      <td>22.000000</td>\n",
       "      <td>0.0</td>\n",
       "      <td>0.000000</td>\n",
       "    </tr>\n",
       "    <tr>\n",
       "      <th>8878</th>\n",
       "      <td>B51539</td>\n",
       "      <td>2024-04-25 09:10:35</td>\n",
       "      <td>40</td>\n",
       "      <td>31.000000</td>\n",
       "      <td>18.0</td>\n",
       "      <td>12.727922</td>\n",
       "    </tr>\n",
       "    <tr>\n",
       "      <th>9017</th>\n",
       "      <td>B51539</td>\n",
       "      <td>2024-04-25 09:11:06</td>\n",
       "      <td>42</td>\n",
       "      <td>34.666667</td>\n",
       "      <td>2.0</td>\n",
       "      <td>11.015141</td>\n",
       "    </tr>\n",
       "    <tr>\n",
       "      <th>9053</th>\n",
       "      <td>B51539</td>\n",
       "      <td>2024-04-25 09:11:37</td>\n",
       "      <td>31</td>\n",
       "      <td>33.750000</td>\n",
       "      <td>-11.0</td>\n",
       "      <td>9.178780</td>\n",
       "    </tr>\n",
       "    <tr>\n",
       "      <th>8759</th>\n",
       "      <td>B51539</td>\n",
       "      <td>2024-04-25 09:12:07</td>\n",
       "      <td>9</td>\n",
       "      <td>28.800000</td>\n",
       "      <td>-22.0</td>\n",
       "      <td>13.627179</td>\n",
       "    </tr>\n",
       "    <tr>\n",
       "      <th>8920</th>\n",
       "      <td>B51539</td>\n",
       "      <td>2024-04-25 09:12:38</td>\n",
       "      <td>20</td>\n",
       "      <td>28.400000</td>\n",
       "      <td>11.0</td>\n",
       "      <td>13.903237</td>\n",
       "    </tr>\n",
       "    <tr>\n",
       "      <th>8946</th>\n",
       "      <td>B51539</td>\n",
       "      <td>2024-04-25 09:13:09</td>\n",
       "      <td>0</td>\n",
       "      <td>20.400000</td>\n",
       "      <td>-20.0</td>\n",
       "      <td>16.772000</td>\n",
       "    </tr>\n",
       "    <tr>\n",
       "      <th>9204</th>\n",
       "      <td>B51539</td>\n",
       "      <td>2024-04-25 09:13:40</td>\n",
       "      <td>27</td>\n",
       "      <td>17.400000</td>\n",
       "      <td>27.0</td>\n",
       "      <td>12.817956</td>\n",
       "    </tr>\n",
       "    <tr>\n",
       "      <th>148197</th>\n",
       "      <td>B51566</td>\n",
       "      <td>2024-04-26 16:57:39</td>\n",
       "      <td>22</td>\n",
       "      <td>22.000000</td>\n",
       "      <td>0.0</td>\n",
       "      <td>0.000000</td>\n",
       "    </tr>\n",
       "    <tr>\n",
       "      <th>148246</th>\n",
       "      <td>B51566</td>\n",
       "      <td>2024-04-26 16:58:40</td>\n",
       "      <td>22</td>\n",
       "      <td>22.000000</td>\n",
       "      <td>0.0</td>\n",
       "      <td>0.000000</td>\n",
       "    </tr>\n",
       "  </tbody>\n",
       "</table>\n",
       "</div>"
      ],
      "text/plain": [
       "         ordem    datahoraservidor  velocidade  velocidade_recente_media  \\\n",
       "8720    B51539 2024-04-25 09:10:05          22                 22.000000   \n",
       "8878    B51539 2024-04-25 09:10:35          40                 31.000000   \n",
       "9017    B51539 2024-04-25 09:11:06          42                 34.666667   \n",
       "9053    B51539 2024-04-25 09:11:37          31                 33.750000   \n",
       "8759    B51539 2024-04-25 09:12:07           9                 28.800000   \n",
       "8920    B51539 2024-04-25 09:12:38          20                 28.400000   \n",
       "8946    B51539 2024-04-25 09:13:09           0                 20.400000   \n",
       "9204    B51539 2024-04-25 09:13:40          27                 17.400000   \n",
       "148197  B51566 2024-04-26 16:57:39          22                 22.000000   \n",
       "148246  B51566 2024-04-26 16:58:40          22                 22.000000   \n",
       "\n",
       "        aceleracao  velocidade_std_recente  \n",
       "8720           0.0                0.000000  \n",
       "8878          18.0               12.727922  \n",
       "9017           2.0               11.015141  \n",
       "9053         -11.0                9.178780  \n",
       "8759         -22.0               13.627179  \n",
       "8920          11.0               13.903237  \n",
       "8946         -20.0               16.772000  \n",
       "9204          27.0               12.817956  \n",
       "148197         0.0                0.000000  \n",
       "148246         0.0                0.000000  "
      ]
     },
     "metadata": {},
     "output_type": "display_data"
    }
   ],
   "source": [
    "# Ordena os dados para cálculos de janela móvel\n",
    "gdf_com_sentido_sorted = gdf_com_sentido.sort_values(by=['ordem', 'datahoraservidor'])\n",
    "\n",
    "# --- Velocidade Média Recente ---\n",
    "rolling_mean = gdf_com_sentido_sorted.groupby('ordem')['velocidade'].rolling(window=5, min_periods=1).mean()\n",
    "gdf_com_sentido['velocidade_recente_media'] = rolling_mean.reset_index(level=0, drop=True)\n",
    "gdf_com_sentido['velocidade_recente_media'].fillna(method='ffill', inplace=True)\n",
    "gdf_com_sentido['velocidade_recente_media'].fillna(0, inplace=True)\n",
    "\n",
    "# --- Aceleração ---\n",
    "gdf_com_sentido['aceleracao'] = gdf_com_sentido_sorted.groupby('ordem')['velocidade'].diff().fillna(0)\n",
    "\n",
    "# --- Desvio Padrão da Velocidade Recente ---\n",
    "rolling_std = gdf_com_sentido_sorted.groupby('ordem')['velocidade'].rolling(window=5, min_periods=1).std()\n",
    "gdf_com_sentido['velocidade_std_recente'] = rolling_std.reset_index(level=0, drop=True).fillna(0)\n",
    "\n",
    "print(\"Features de velocidade, aceleração e desvio padrão criadas.\")\n",
    "display(\n",
    "    gdf_com_sentido[[\n",
    "        'ordem',\n",
    "        'datahoraservidor',\n",
    "        'velocidade',\n",
    "        'velocidade_recente_media',\n",
    "        'aceleracao',\n",
    "        'velocidade_std_recente'\n",
    "    ]].head(10)\n",
    ")"
   ]
  },
  {
   "cell_type": "markdown",
   "metadata": {},
   "source": [
    "### Features de Rota e Geometria"
   ]
  },
  {
   "cell_type": "code",
   "execution_count": 14,
   "metadata": {},
   "outputs": [
    {
     "name": "stdout",
     "output_type": "stream",
     "text": [
      "Features de rota criadas.\n"
     ]
    },
    {
     "data": {
      "application/vnd.microsoft.datawrangler.viewer.v0+json": {
       "columns": [
        {
         "name": "index",
         "rawType": "int64",
         "type": "integer"
        },
        {
         "name": "sentido",
         "rawType": "float64",
         "type": "float"
        },
        {
         "name": "distancia_trajeto",
         "rawType": "float64",
         "type": "float"
        },
        {
         "name": "percentual_trajeto",
         "rawType": "float64",
         "type": "float"
        },
        {
         "name": "distancia_ate_final",
         "rawType": "float64",
         "type": "float"
        }
       ],
       "ref": "7761362d-7fc4-45fd-8687-c8ca7b181138",
       "rows": [
        [
         "8720",
         "1.0",
         "93.30734993970383",
         "0.8123204519961557",
         "21.55784853020421"
        ],
        [
         "8878",
         "1.0",
         "92.03765896521085",
         "0.8012667038513196",
         "22.827539504697185"
        ],
        [
         "9017",
         "1.0",
         "91.17249246471992",
         "0.7937346879577712",
         "23.692706005188114"
        ],
        [
         "9053",
         "1.0",
         "90.78269296604287",
         "0.790341149236997",
         "24.082505503865164"
        ],
        [
         "8759",
         "1.0",
         "90.71055938640542",
         "0.7897131646028491",
         "24.154639083502616"
        ]
       ],
       "shape": {
        "columns": 4,
        "rows": 5
       }
      },
      "text/html": [
       "<div>\n",
       "<style scoped>\n",
       "    .dataframe tbody tr th:only-of-type {\n",
       "        vertical-align: middle;\n",
       "    }\n",
       "\n",
       "    .dataframe tbody tr th {\n",
       "        vertical-align: top;\n",
       "    }\n",
       "\n",
       "    .dataframe thead th {\n",
       "        text-align: right;\n",
       "    }\n",
       "</style>\n",
       "<table border=\"1\" class=\"dataframe\">\n",
       "  <thead>\n",
       "    <tr style=\"text-align: right;\">\n",
       "      <th></th>\n",
       "      <th>sentido</th>\n",
       "      <th>distancia_trajeto</th>\n",
       "      <th>percentual_trajeto</th>\n",
       "      <th>distancia_ate_final</th>\n",
       "    </tr>\n",
       "  </thead>\n",
       "  <tbody>\n",
       "    <tr>\n",
       "      <th>8720</th>\n",
       "      <td>1.0</td>\n",
       "      <td>93.307350</td>\n",
       "      <td>0.812320</td>\n",
       "      <td>21.557849</td>\n",
       "    </tr>\n",
       "    <tr>\n",
       "      <th>8878</th>\n",
       "      <td>1.0</td>\n",
       "      <td>92.037659</td>\n",
       "      <td>0.801267</td>\n",
       "      <td>22.827540</td>\n",
       "    </tr>\n",
       "    <tr>\n",
       "      <th>9017</th>\n",
       "      <td>1.0</td>\n",
       "      <td>91.172492</td>\n",
       "      <td>0.793735</td>\n",
       "      <td>23.692706</td>\n",
       "    </tr>\n",
       "    <tr>\n",
       "      <th>9053</th>\n",
       "      <td>1.0</td>\n",
       "      <td>90.782693</td>\n",
       "      <td>0.790341</td>\n",
       "      <td>24.082506</td>\n",
       "    </tr>\n",
       "    <tr>\n",
       "      <th>8759</th>\n",
       "      <td>1.0</td>\n",
       "      <td>90.710559</td>\n",
       "      <td>0.789713</td>\n",
       "      <td>24.154639</td>\n",
       "    </tr>\n",
       "  </tbody>\n",
       "</table>\n",
       "</div>"
      ],
      "text/plain": [
       "      sentido  distancia_trajeto  percentual_trajeto  distancia_ate_final\n",
       "8720      1.0          93.307350            0.812320            21.557849\n",
       "8878      1.0          92.037659            0.801267            22.827540\n",
       "9017      1.0          91.172492            0.793735            23.692706\n",
       "9053      1.0          90.782693            0.790341            24.082506\n",
       "8759      1.0          90.710559            0.789713            24.154639"
      ]
     },
     "metadata": {},
     "output_type": "display_data"
    }
   ],
   "source": [
    "if trajetos_finais:\n",
    "    # Comprimento total de cada trajeto\n",
    "    comprimento_trajetos = {sentido: trajeto.length for sentido, trajeto in trajetos_finais.items()}\n",
    "\n",
    "    # Percentual do trajeto completado\n",
    "    gdf_com_sentido['percentual_trajeto'] = gdf_com_sentido.apply(\n",
    "        lambda row: row['distancia_trajeto'] / comprimento_trajetos.get(row['sentido'], 1) if comprimento_trajetos.get(row['sentido']) else 0,\n",
    "        axis=1\n",
    "    )\n",
    "\n",
    "    # Distância até o final do trajeto\n",
    "    gdf_com_sentido['distancia_ate_final'] = gdf_com_sentido.apply(\n",
    "        lambda row: comprimento_trajetos.get(row['sentido'], 0) - row['distancia_trajeto'],\n",
    "        axis=1\n",
    "    )\n",
    "    print(\"Features de rota criadas.\")\n",
    "    display(gdf_com_sentido[['sentido', 'distancia_trajeto', 'percentual_trajeto', 'distancia_ate_final']].head())\n",
    "else:\n",
    "    print(\"Features de rota não foram criadas pois os trajetos não foram definidos.\")"
   ]
  },
  {
   "cell_type": "markdown",
   "metadata": {},
   "source": [
    "### Features de Tempo Cíclico\n",
    "\n",
    "Para ajudar o modelo a entender a natureza cíclica do tempo (por exemplo, 23:00 está perto de 00:00), transformamos variáveis como hora e dia da semana em um espaço 2D usando seno e cosseno."
   ]
  },
  {
   "cell_type": "code",
   "execution_count": 15,
   "metadata": {},
   "outputs": [
    {
     "name": "stdout",
     "output_type": "stream",
     "text": [
      "Features de tempo cíclico criadas.\n"
     ]
    },
    {
     "data": {
      "application/vnd.microsoft.datawrangler.viewer.v0+json": {
       "columns": [
        {
         "name": "index",
         "rawType": "int64",
         "type": "integer"
        },
        {
         "name": "hora_do_dia",
         "rawType": "int32",
         "type": "integer"
        },
        {
         "name": "hora_sin",
         "rawType": "float64",
         "type": "float"
        },
        {
         "name": "hora_cos",
         "rawType": "float64",
         "type": "float"
        },
        {
         "name": "dia_da_semana",
         "rawType": "int32",
         "type": "integer"
        },
        {
         "name": "dia_semana_sin",
         "rawType": "float64",
         "type": "float"
        },
        {
         "name": "dia_semana_cos",
         "rawType": "float64",
         "type": "float"
        }
       ],
       "ref": "74b49801-b80a-4cfd-93fd-93fb91fd06d5",
       "rows": [
        [
         "8720",
         "9",
         "0.7071067811865476",
         "-0.7071067811865475",
         "3",
         "0.43388373911755823",
         "-0.900968867902419"
        ],
        [
         "8878",
         "9",
         "0.7071067811865476",
         "-0.7071067811865475",
         "3",
         "0.43388373911755823",
         "-0.900968867902419"
        ],
        [
         "9017",
         "9",
         "0.7071067811865476",
         "-0.7071067811865475",
         "3",
         "0.43388373911755823",
         "-0.900968867902419"
        ],
        [
         "9053",
         "9",
         "0.7071067811865476",
         "-0.7071067811865475",
         "3",
         "0.43388373911755823",
         "-0.900968867902419"
        ],
        [
         "8759",
         "9",
         "0.7071067811865476",
         "-0.7071067811865475",
         "3",
         "0.43388373911755823",
         "-0.900968867902419"
        ]
       ],
       "shape": {
        "columns": 6,
        "rows": 5
       }
      },
      "text/html": [
       "<div>\n",
       "<style scoped>\n",
       "    .dataframe tbody tr th:only-of-type {\n",
       "        vertical-align: middle;\n",
       "    }\n",
       "\n",
       "    .dataframe tbody tr th {\n",
       "        vertical-align: top;\n",
       "    }\n",
       "\n",
       "    .dataframe thead th {\n",
       "        text-align: right;\n",
       "    }\n",
       "</style>\n",
       "<table border=\"1\" class=\"dataframe\">\n",
       "  <thead>\n",
       "    <tr style=\"text-align: right;\">\n",
       "      <th></th>\n",
       "      <th>hora_do_dia</th>\n",
       "      <th>hora_sin</th>\n",
       "      <th>hora_cos</th>\n",
       "      <th>dia_da_semana</th>\n",
       "      <th>dia_semana_sin</th>\n",
       "      <th>dia_semana_cos</th>\n",
       "    </tr>\n",
       "  </thead>\n",
       "  <tbody>\n",
       "    <tr>\n",
       "      <th>8720</th>\n",
       "      <td>9</td>\n",
       "      <td>0.707107</td>\n",
       "      <td>-0.707107</td>\n",
       "      <td>3</td>\n",
       "      <td>0.433884</td>\n",
       "      <td>-0.900969</td>\n",
       "    </tr>\n",
       "    <tr>\n",
       "      <th>8878</th>\n",
       "      <td>9</td>\n",
       "      <td>0.707107</td>\n",
       "      <td>-0.707107</td>\n",
       "      <td>3</td>\n",
       "      <td>0.433884</td>\n",
       "      <td>-0.900969</td>\n",
       "    </tr>\n",
       "    <tr>\n",
       "      <th>9017</th>\n",
       "      <td>9</td>\n",
       "      <td>0.707107</td>\n",
       "      <td>-0.707107</td>\n",
       "      <td>3</td>\n",
       "      <td>0.433884</td>\n",
       "      <td>-0.900969</td>\n",
       "    </tr>\n",
       "    <tr>\n",
       "      <th>9053</th>\n",
       "      <td>9</td>\n",
       "      <td>0.707107</td>\n",
       "      <td>-0.707107</td>\n",
       "      <td>3</td>\n",
       "      <td>0.433884</td>\n",
       "      <td>-0.900969</td>\n",
       "    </tr>\n",
       "    <tr>\n",
       "      <th>8759</th>\n",
       "      <td>9</td>\n",
       "      <td>0.707107</td>\n",
       "      <td>-0.707107</td>\n",
       "      <td>3</td>\n",
       "      <td>0.433884</td>\n",
       "      <td>-0.900969</td>\n",
       "    </tr>\n",
       "  </tbody>\n",
       "</table>\n",
       "</div>"
      ],
      "text/plain": [
       "      hora_do_dia  hora_sin  hora_cos  dia_da_semana  dia_semana_sin  \\\n",
       "8720            9  0.707107 -0.707107              3        0.433884   \n",
       "8878            9  0.707107 -0.707107              3        0.433884   \n",
       "9017            9  0.707107 -0.707107              3        0.433884   \n",
       "9053            9  0.707107 -0.707107              3        0.433884   \n",
       "8759            9  0.707107 -0.707107              3        0.433884   \n",
       "\n",
       "      dia_semana_cos  \n",
       "8720       -0.900969  \n",
       "8878       -0.900969  \n",
       "9017       -0.900969  \n",
       "9053       -0.900969  \n",
       "8759       -0.900969  "
      ]
     },
     "metadata": {},
     "output_type": "display_data"
    }
   ],
   "source": [
    "# Para hora do dia (ciclo de 24h)\n",
    "gdf_com_sentido['hora_sin'] = np.sin(2 * np.pi * gdf_com_sentido['hora_do_dia']/24.0)\n",
    "gdf_com_sentido['hora_cos'] = np.cos(2 * np.pi * gdf_com_sentido['hora_do_dia']/24.0)\n",
    "\n",
    "# Para dia da semana (ciclo de 7 dias)\n",
    "gdf_com_sentido['dia_semana_sin'] = np.sin(2 * np.pi * gdf_com_sentido['dia_da_semana']/7.0)\n",
    "gdf_com_sentido['dia_semana_cos'] = np.cos(2 * np.pi * gdf_com_sentido['dia_da_semana']/7.0)\n",
    "\n",
    "print(\"Features de tempo cíclico criadas.\")\n",
    "display(gdf_com_sentido[['hora_do_dia', 'hora_sin', 'hora_cos', 'dia_da_semana', 'dia_semana_sin', 'dia_semana_cos']].head())"
   ]
  },
  {
   "cell_type": "markdown",
   "metadata": {},
   "source": [
    "## Etapa Final: Treinamento e Testes do Modelo de Previsão"
   ]
  },
  {
   "cell_type": "code",
   "execution_count": 16,
   "metadata": {},
   "outputs": [
    {
     "name": "stdout",
     "output_type": "stream",
     "text": [
      "Iniciando a engenharia da variável alvo...\n",
      "Variável alvo 'tempo_ate_final' criada. Total de 212309 pontos de dados válidos.\n",
      "\n",
      "Dividindo os dados em conjuntos de treino e validação...\n",
      "Conjunto de Treino: 161297 amostras (Até 26/04/2024)\n",
      "Conjunto de Validação: 51012 amostras (Dia 27/04/2024)\n"
     ]
    }
   ],
   "source": [
    "# 1. Engenharia da Variável Alvo (Target)\n",
    "# Para cada viagem (definida por 'ordem', data e 'sentido'), calculamos o tempo até o final.\n",
    "print(\"Iniciando a engenharia da variável alvo...\")\n",
    "df_modelo = gdf_com_sentido.copy()\n",
    "df_modelo['data'] = df_modelo['datahoraservidor'].dt.date\n",
    "\n",
    "# Encontra o horário de chegada ao final de cada viagem\n",
    "df_modelo['horario_chegada'] = df_modelo.groupby(['ordem', 'data', 'sentido'])['datahoraservidor'].transform('max')\n",
    "\n",
    "# Calcula a diferença em segundos para o final da viagem\n",
    "df_modelo['tempo_ate_final'] = (df_modelo['horario_chegada'] - df_modelo['datahoraservidor']).dt.total_seconds()\n",
    "\n",
    "# Remove viagens muito curtas ou com dados insuficientes (ex: menos de 5 minutos de duração)\n",
    "viagens_validas = df_modelo.groupby(['ordem', 'data', 'sentido'])['tempo_ate_final'].transform('max') > 300\n",
    "df_modelo = df_modelo[viagens_validas]\n",
    "\n",
    "print(f\"Variável alvo 'tempo_ate_final' criada. Total de {len(df_modelo)} pontos de dados válidos.\")\n",
    "\n",
    "\n",
    "# 2. Seleção de Features e Target\n",
    "features = [\n",
    "    'distancia_trajeto', \n",
    "    'percentual_trajeto', \n",
    "    'distancia_ate_final',\n",
    "    'velocidade', \n",
    "    'velocidade_recente_media', \n",
    "    'aceleracao', \n",
    "    'velocidade_std_recente',\n",
    "    'sentido', \n",
    "    'hora_sin', \n",
    "    'hora_cos', \n",
    "    'dia_semana_sin', \n",
    "    'dia_semana_cos',\n",
    "    'fim_de_semana'\n",
    "]\n",
    "\n",
    "target = 'tempo_ate_final'\n",
    "\n",
    "# 3. Divisão dos Dados em Treino e Validação por Data\n",
    "print(\"\\nDividindo os dados em conjuntos de treino e validação...\")\n",
    "data_validacao = pd.to_datetime('2024-04-27').date()\n",
    "\n",
    "treino_df = df_modelo[df_modelo['data'] < data_validacao]\n",
    "validacao_df = df_modelo[df_modelo['data'] == data_validacao]\n",
    "\n",
    "X_treino = treino_df[features]\n",
    "y_treino = treino_df[target]\n",
    "X_validacao = validacao_df[features]\n",
    "y_validacao = validacao_df[target]\n",
    "\n",
    "if X_validacao.empty or y_validacao.empty:\n",
    "    raise ValueError(\"O conjunto de validação está vazio! Verifique as datas de corte e o intervalo de dados carregado.\")\n",
    "\n",
    "print(f\"Conjunto de Treino: {len(X_treino)} amostras (Até 26/04/2024)\")\n",
    "print(f\"Conjunto de Validação: {len(X_validacao)} amostras (Dia 27/04/2024)\")"
   ]
  },
  {
   "cell_type": "markdown",
   "metadata": {},
   "source": [
    "## Treinamento do Modelo com LightGBM"
   ]
  },
  {
   "cell_type": "code",
   "execution_count": 17,
   "metadata": {},
   "outputs": [
    {
     "name": "stdout",
     "output_type": "stream",
     "text": [
      "Iniciando o treinamento do modelo LightGBM...\n",
      "[LightGBM] [Info] Auto-choosing row-wise multi-threading, the overhead of testing was 0.003534 seconds.\n",
      "You can set `force_row_wise=true` to remove the overhead.\n",
      "And if memory is not enough, you can set `force_col_wise=true`.\n",
      "[LightGBM] [Info] Total Bins 1466\n",
      "[LightGBM] [Info] Number of data points in the train set: 161297, number of used features: 11\n",
      "[LightGBM] [Info] Start training from score 24913.000000\n",
      "Training until validation scores don't improve for 100 rounds\n",
      "Early stopping, best iteration is:\n",
      "[355]\tvalid_0's l1: 2480.09\n",
      "\n",
      "--- Avaliação do Modelo no Conjunto de Validação ---\n",
      "Erro Absoluto Médio (MAE): 2480.09 segundos\n",
      "  -> Em média, as previsões de ETA do modelo erram por 41.33 minutos.\n",
      "Coeficiente de Determinação (R²): 0.90\n"
     ]
    }
   ],
   "source": [
    "import lightgbm as lgb\n",
    "from sklearn.metrics import mean_absolute_error, r2_score\n",
    "\n",
    "print(\"Iniciando o treinamento do modelo LightGBM...\")\n",
    "\n",
    "# Configuração do modelo\n",
    "lgbm = lgb.LGBMRegressor(\n",
    "    objective='regression_l1',  # Otimizado para Mean Absolute Error\n",
    "    n_estimators=1000,\n",
    "    learning_rate=0.05,\n",
    "    num_leaves=31,\n",
    "    n_jobs=-1,\n",
    "    seed=42\n",
    ")\n",
    "\n",
    "# Treinamento com early stopping para evitar overfitting\n",
    "lgbm.fit(\n",
    "    X_treino, y_treino,\n",
    "    eval_set=[(X_validacao, y_validacao)],\n",
    "    eval_metric='mae',\n",
    "    callbacks=[lgb.early_stopping(100, verbose=True)]\n",
    ")\n",
    "\n",
    "# Avaliação do modelo no conjunto de validação\n",
    "print(\"\\n--- Avaliação do Modelo no Conjunto de Validação ---\")\n",
    "previsoes_validacao = lgbm.predict(X_validacao)\n",
    "mae = mean_absolute_error(y_validacao, previsoes_validacao)\n",
    "r2 = r2_score(y_validacao, previsoes_validacao)\n",
    "\n",
    "print(f\"Erro Absoluto Médio (MAE): {mae:.2f} segundos\")\n",
    "print(f\"  -> Em média, as previsões de ETA do modelo erram por {mae/60:.2f} minutos.\")\n",
    "print(f\"Coeficiente de Determinação (R²): {r2:.2f}\")\n",
    "\n",
    "# Guardando o modelo treinado para a próxima etapa\n",
    "modelo_final = lgbm"
   ]
  }
 ],
 "metadata": {
  "kernelspec": {
   "display_name": "Python Datamining",
   "language": "python",
   "name": "datamining"
  },
  "language_info": {
   "codemirror_mode": {
    "name": "ipython",
    "version": 3
   },
   "file_extension": ".py",
   "mimetype": "text/x-python",
   "name": "python",
   "nbconvert_exporter": "python",
   "pygments_lexer": "ipython3",
   "version": "3.13.3"
  }
 },
 "nbformat": 4,
 "nbformat_minor": 4
}
