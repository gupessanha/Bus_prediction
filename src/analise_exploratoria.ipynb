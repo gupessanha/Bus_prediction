{
 "cells": [
  {
   "cell_type": "code",
   "execution_count": null,
   "id": "fe8b58bc",
   "metadata": {},
   "outputs": [
    {
     "name": "stdout",
     "output_type": "stream",
     "text": [
      "Ambiente do Notebook pronto.\n"
     ]
    }
   ],
   "source": [
    "import pandas as pd\n",
    "import geopandas as gpd\n",
    "from sqlalchemy import create_engine\n",
    "import matplotlib.pyplot as plt\n",
    "from shapely.geometry import Point, LineString, MultiPoint\n",
    "from sklearn.cluster import KMeans, DBSCAN\n",
    "import matplotlib.pyplot as plt\n",
    "from itertools import combinations\n",
    "import numpy as np\n",
    "\n",
    "# Configurações de visualização\n",
    "pd.set_option('display.max_columns', 50)\n",
    "plt.rcParams['figure.figsize'] = (14, 10)\n",
    "\n",
    "# Conexão com o banco de dados\n",
    "DB_USER = \"myuser\"\n",
    "DB_PASS = \"mypassword\"\n",
    "DB_HOST = \"localhost\" \n",
    "DB_PORT = \"5432\"\n",
    "DB_NAME = \"bus_predictions\"\n",
    "DATABASE_URL = f\"postgresql://{DB_USER}:{DB_PASS}@{DB_HOST}:{DB_PORT}/{DB_NAME}\"\n",
    "engine = create_engine(DATABASE_URL)\n",
    "\n",
    "print(\"Ambiente do Notebook pronto.\")"
   ]
  },
  {
   "cell_type": "code",
   "execution_count": 2,
   "id": "ed1d88a9",
   "metadata": {},
   "outputs": [],
   "source": [
    "linha_alvo = 371\n",
    "data_inicio = '2024-04-25'\n",
    "data_fim = '2024-04-28'\n",
    "sql_query = f\"\"\"\n",
    "    SELECT * FROM gps_data \n",
    "    WHERE linha = '{linha_alvo}' \n",
    "    AND datahoraservidor >= '{data_inicio}' \n",
    "    AND datahoraservidor < '{data_fim}'\n",
    "\"\"\"\n",
    "gdf = gpd.read_postgis(sql_query, engine, geom_col='geom')"
   ]
  },
  {
   "cell_type": "markdown",
   "id": "b03d815e",
   "metadata": {},
   "source": [
    "## Limpeza e Validação dos Dados Carregados"
   ]
  },
  {
   "cell_type": "code",
   "execution_count": null,
   "id": "88c2155c",
   "metadata": {},
   "outputs": [
    {
     "name": "stdout",
     "output_type": "stream",
     "text": [
      "Após a limpeza, restaram 212713 registros para a análise.\n"
     ]
    },
    {
     "data": {
      "text/html": [
       "<div>\n",
       "<style scoped>\n",
       "    .dataframe tbody tr th:only-of-type {\n",
       "        vertical-align: middle;\n",
       "    }\n",
       "\n",
       "    .dataframe tbody tr th {\n",
       "        vertical-align: top;\n",
       "    }\n",
       "\n",
       "    .dataframe thead th {\n",
       "        text-align: right;\n",
       "    }\n",
       "</style>\n",
       "<table border=\"1\" class=\"dataframe\">\n",
       "  <thead>\n",
       "    <tr style=\"text-align: right;\">\n",
       "      <th></th>\n",
       "      <th>id</th>\n",
       "      <th>ordem</th>\n",
       "      <th>latitude</th>\n",
       "      <th>longitude</th>\n",
       "      <th>datahora</th>\n",
       "      <th>velocidade</th>\n",
       "      <th>linha</th>\n",
       "      <th>datahoraenvio</th>\n",
       "      <th>datahoraservidor</th>\n",
       "      <th>geom</th>\n",
       "      <th>hora</th>\n",
       "    </tr>\n",
       "  </thead>\n",
       "  <tbody>\n",
       "    <tr>\n",
       "      <th>8751</th>\n",
       "      <td>1577204</td>\n",
       "      <td>B51539</td>\n",
       "      <td>-22.87856</td>\n",
       "      <td>-43.35818</td>\n",
       "      <td>2024-04-25 09:09:35</td>\n",
       "      <td>22</td>\n",
       "      <td>371</td>\n",
       "      <td>2024-04-25 09:09:48</td>\n",
       "      <td>2024-04-25 09:10:05</td>\n",
       "      <td>POINT (-43.35818 -22.87856)</td>\n",
       "      <td>9</td>\n",
       "    </tr>\n",
       "    <tr>\n",
       "      <th>8792</th>\n",
       "      <td>1580197</td>\n",
       "      <td>B51539</td>\n",
       "      <td>-22.87975</td>\n",
       "      <td>-43.35567</td>\n",
       "      <td>2024-04-25 09:10:05</td>\n",
       "      <td>40</td>\n",
       "      <td>371</td>\n",
       "      <td>2024-04-25 09:10:10</td>\n",
       "      <td>2024-04-25 09:10:35</td>\n",
       "      <td>POINT (-43.35567 -22.87975)</td>\n",
       "      <td>9</td>\n",
       "    </tr>\n",
       "    <tr>\n",
       "      <th>9019</th>\n",
       "      <td>1584723</td>\n",
       "      <td>B51539</td>\n",
       "      <td>-22.88116</td>\n",
       "      <td>-43.35225</td>\n",
       "      <td>2024-04-25 09:10:35</td>\n",
       "      <td>42</td>\n",
       "      <td>371</td>\n",
       "      <td>2024-04-25 09:10:41</td>\n",
       "      <td>2024-04-25 09:11:06</td>\n",
       "      <td>POINT (-43.35225 -22.88116)</td>\n",
       "      <td>9</td>\n",
       "    </tr>\n",
       "    <tr>\n",
       "      <th>9055</th>\n",
       "      <td>1589265</td>\n",
       "      <td>B51539</td>\n",
       "      <td>-22.88228</td>\n",
       "      <td>-43.34925</td>\n",
       "      <td>2024-04-25 09:11:05</td>\n",
       "      <td>31</td>\n",
       "      <td>371</td>\n",
       "      <td>2024-04-25 09:11:13</td>\n",
       "      <td>2024-04-25 09:11:37</td>\n",
       "      <td>POINT (-43.34925 -22.88228)</td>\n",
       "      <td>9</td>\n",
       "    </tr>\n",
       "    <tr>\n",
       "      <th>9142</th>\n",
       "      <td>1593818</td>\n",
       "      <td>B51539</td>\n",
       "      <td>-22.88260</td>\n",
       "      <td>-43.34834</td>\n",
       "      <td>2024-04-25 09:11:35</td>\n",
       "      <td>9</td>\n",
       "      <td>371</td>\n",
       "      <td>2024-04-25 09:11:45</td>\n",
       "      <td>2024-04-25 09:12:07</td>\n",
       "      <td>POINT (-43.34834 -22.8826)</td>\n",
       "      <td>9</td>\n",
       "    </tr>\n",
       "  </tbody>\n",
       "</table>\n",
       "</div>"
      ],
      "text/plain": [
       "           id   ordem  latitude  longitude            datahora  velocidade  \\\n",
       "8751  1577204  B51539 -22.87856  -43.35818 2024-04-25 09:09:35          22   \n",
       "8792  1580197  B51539 -22.87975  -43.35567 2024-04-25 09:10:05          40   \n",
       "9019  1584723  B51539 -22.88116  -43.35225 2024-04-25 09:10:35          42   \n",
       "9055  1589265  B51539 -22.88228  -43.34925 2024-04-25 09:11:05          31   \n",
       "9142  1593818  B51539 -22.88260  -43.34834 2024-04-25 09:11:35           9   \n",
       "\n",
       "     linha       datahoraenvio    datahoraservidor  \\\n",
       "8751   371 2024-04-25 09:09:48 2024-04-25 09:10:05   \n",
       "8792   371 2024-04-25 09:10:10 2024-04-25 09:10:35   \n",
       "9019   371 2024-04-25 09:10:41 2024-04-25 09:11:06   \n",
       "9055   371 2024-04-25 09:11:13 2024-04-25 09:11:37   \n",
       "9142   371 2024-04-25 09:11:45 2024-04-25 09:12:07   \n",
       "\n",
       "                             geom  hora  \n",
       "8751  POINT (-43.35818 -22.87856)     9  \n",
       "8792  POINT (-43.35567 -22.87975)     9  \n",
       "9019  POINT (-43.35225 -22.88116)     9  \n",
       "9055  POINT (-43.34925 -22.88228)     9  \n",
       "9142   POINT (-43.34834 -22.8826)     9  "
      ]
     },
     "metadata": {},
     "output_type": "display_data"
    }
   ],
   "source": [
    "# Garante que os dados estão no formato correto e ordena\n",
    "gdf['datahoraservidor'] = pd.to_datetime(gdf['datahoraservidor'])\n",
    "gdf.sort_values(by=['ordem', 'datahoraservidor'], inplace=True)\n",
    "\n",
    "# Filtra pelo horário de operação (08:00 até 22:59)\n",
    "gdf['hora'] = gdf['datahoraservidor'].dt.hour\n",
    "gdf_operacao = gdf[gdf['hora'].between(8, 22)].copy()\n",
    "\n",
    "# Remove velocidades irreais e duplicatas\n",
    "gdf_operacao = gdf_operacao[gdf_operacao['velocidade'] <= 120]\n",
    "gdf_operacao.drop_duplicates(inplace=True)\n",
    "\n",
    "print(f\"Após a limpeza, restaram {len(gdf_operacao)} registros para a análise.\")\n",
    "display(gdf_operacao.head())"
   ]
  },
  {
   "cell_type": "markdown",
   "id": "79d00c24",
   "metadata": {},
   "source": [
    "## Identificar Pontos do Onibus -> Separar Ida e Volta -> Contruir Caminhos"
   ]
  },
  {
   "cell_type": "code",
   "execution_count": null,
   "id": "5263aaeb",
   "metadata": {},
   "outputs": [
    {
     "name": "stdout",
     "output_type": "stream",
     "text": [
      "Iniciando a identificação de terminais...\n",
      "Encontradas 396 paradas longas (potenciais pontos terminais).\n",
      "DBSCAN encontrou 45 clusters de terminais.\n",
      "Terminais A e B definidos com sucesso.\n",
      "\n",
      "Iniciando a separação de sentidos...\n"
     ]
    },
    {
     "name": "stderr",
     "output_type": "stream",
     "text": [
      "c:\\Users\\gupes\\REPOS\\datamining\\Data-Mining\\datamining\\Lib\\site-packages\\geopandas\\geodataframe.py:1981: SettingWithCopyWarning: \n",
      "A value is trying to be set on a copy of a slice from a DataFrame.\n",
      "Try using .loc[row_indexer,col_indexer] = value instead\n",
      "\n",
      "See the caveats in the documentation: https://pandas.pydata.org/pandas-docs/stable/user_guide/indexing.html#returning-a-view-versus-a-copy\n",
      "  super().__setitem__(key, value)\n"
     ]
    },
    {
     "name": "stdout",
     "output_type": "stream",
     "text": [
      "Coluna 'sentido' criada com sucesso.\n",
      "sentido\n",
      "1.0    112884\n",
      "0.0     99433\n",
      "NaN       396\n",
      "Name: count, dtype: int64\n",
      "\n",
      "Construindo trajeto para o Sentido: 1.0...\n"
     ]
    },
    {
     "name": "stderr",
     "output_type": "stream",
     "text": [
      "C:\\Users\\gupes\\AppData\\Local\\Temp\\ipykernel_16568\\4163481512.py:55: UserWarning: Geometry is in a geographic CRS. Results from 'distance' are likely incorrect. Use 'GeoSeries.to_crs()' to re-project geometries to a projected CRS before this operation.\n",
      "\n",
      "  dist_media_A = pontos_sentido.head(10).geometry.distance(terminal_A).mean()\n",
      "C:\\Users\\gupes\\AppData\\Local\\Temp\\ipykernel_16568\\4163481512.py:56: UserWarning: Geometry is in a geographic CRS. Results from 'distance' are likely incorrect. Use 'GeoSeries.to_crs()' to re-project geometries to a projected CRS before this operation.\n",
      "\n",
      "  dist_media_B = pontos_sentido.head(10).geometry.distance(terminal_B).mean()\n",
      "C:\\Users\\gupes\\AppData\\Local\\Temp\\ipykernel_16568\\4163481512.py:59: UserWarning: Geometry is in a geographic CRS. Results from 'distance' are likely incorrect. Use 'GeoSeries.to_crs()' to re-project geometries to a projected CRS before this operation.\n",
      "\n",
      "  pontos_sentido['distancia_partida'] = pontos_sentido.geometry.distance(terminal_partida)\n"
     ]
    },
    {
     "name": "stdout",
     "output_type": "stream",
     "text": [
      "  - Trajeto para o sentido 1.0 criado com sucesso.\n",
      "\n",
      "Construindo trajeto para o Sentido: 0.0...\n"
     ]
    },
    {
     "name": "stderr",
     "output_type": "stream",
     "text": [
      "C:\\Users\\gupes\\AppData\\Local\\Temp\\ipykernel_16568\\4163481512.py:55: UserWarning: Geometry is in a geographic CRS. Results from 'distance' are likely incorrect. Use 'GeoSeries.to_crs()' to re-project geometries to a projected CRS before this operation.\n",
      "\n",
      "  dist_media_A = pontos_sentido.head(10).geometry.distance(terminal_A).mean()\n",
      "C:\\Users\\gupes\\AppData\\Local\\Temp\\ipykernel_16568\\4163481512.py:56: UserWarning: Geometry is in a geographic CRS. Results from 'distance' are likely incorrect. Use 'GeoSeries.to_crs()' to re-project geometries to a projected CRS before this operation.\n",
      "\n",
      "  dist_media_B = pontos_sentido.head(10).geometry.distance(terminal_B).mean()\n",
      "C:\\Users\\gupes\\AppData\\Local\\Temp\\ipykernel_16568\\4163481512.py:59: UserWarning: Geometry is in a geographic CRS. Results from 'distance' are likely incorrect. Use 'GeoSeries.to_crs()' to re-project geometries to a projected CRS before this operation.\n",
      "\n",
      "  pontos_sentido['distancia_partida'] = pontos_sentido.geometry.distance(terminal_partida)\n"
     ]
    },
    {
     "name": "stdout",
     "output_type": "stream",
     "text": [
      "  - Trajeto para o sentido 0.0 criado com sucesso.\n"
     ]
    },
    {
     "data": {
      "image/png": "[encoded data removed]",
      "text/plain": [
       "<Figure size 1400x1000 with 1 Axes>"
      ]
     },
     "metadata": {},
     "output_type": "display_data"
    }
   ],
   "source": [
    "# Identificar Pontos Terminais \n",
    "print(\"Iniciando a identificação de terminais...\")\n",
    "paradas = gdf_operacao[gdf_operacao['velocidade'] == 0].copy()\n",
    "paradas['tempo_diff_min'] = paradas.groupby('ordem')['datahoraservidor'].diff().dt.total_seconds() / 60\n",
    "paradas_terminais = paradas[paradas['tempo_diff_min'].between(10, 30)]\n",
    "print(f\"Encontradas {len(paradas_terminais)} paradas longas (potenciais pontos terminais).\")\n",
    "\n",
    "# Seleção Robusta dos 2 Terminais Principais \n",
    "terminal_A, terminal_B = None, None\n",
    "if len(paradas_terminais) >= 2:\n",
    "    clustering = DBSCAN(eps=0.001, min_samples=2).fit(paradas_terminais[['latitude', 'longitude']])\n",
    "    paradas_terminais['terminal_cluster'] = clustering.labels_\n",
    "    \n",
    "    terminais_encontrados = {\n",
    "        label: MultiPoint(paradas_terminais[paradas_terminais['terminal_cluster'] == label].geometry.tolist()).centroid\n",
    "        for label in paradas_terminais['terminal_cluster'].unique() if label != -1\n",
    "    }\n",
    "    print(f\"DBSCAN encontrou {len(terminais_encontrados)} clusters de terminais.\")\n",
    "    \n",
    "    if len(terminais_encontrados) >= 2:\n",
    "        if len(terminais_encontrados) == 2:\n",
    "            terminal_A, terminal_B = list(terminais_encontrados.values())\n",
    "        else:\n",
    "            pontos_terminais = list(terminais_encontrados.values())\n",
    "            max_dist, melhor_par = 0, (None, None)\n",
    "            for p1, p2 in combinations(pontos_terminais, 2):\n",
    "                dist = p1.distance(p2)\n",
    "                if dist > max_dist:\n",
    "                    max_dist, melhor_par = dist, (p1, p2)\n",
    "            terminal_A, terminal_B = melhor_par\n",
    "        print(\"Terminais A e B definidos com sucesso.\")\n",
    "\n",
    "if not (terminal_A and terminal_B):\n",
    "    print(\"AVISO: Não foi possível definir os dois terminais principais. A criação da rota pode falhar ou ser imprecisa.\")\n",
    "else:\n",
    "    # Separar os Sentidos (Ida e Volta) \n",
    "    print(\"\\nIniciando a separação de sentidos...\")\n",
    "    pontos_em_movimento_idx = gdf_operacao.index.difference(paradas_terminais.index)\n",
    "    pontos_em_movimento = gdf_operacao.loc[pontos_em_movimento_idx].copy()\n",
    "\n",
    "    if len(pontos_em_movimento) > 2:\n",
    "        kmeans = KMeans(n_clusters=2, random_state=42, n_init='auto')\n",
    "        labels = kmeans.fit_predict(pontos_em_movimento[['latitude', 'longitude']])\n",
    "        gdf_operacao.loc[pontos_em_movimento.index, 'sentido'] = labels\n",
    "        print(\"Coluna 'sentido' criada com sucesso.\")\n",
    "        print(gdf_operacao['sentido'].value_counts(dropna=False))\n",
    "    \n",
    "        # Construir os Caminhos Canônicos \n",
    "        trajetos_finais = {}\n",
    "        for sentido_id in gdf_operacao['sentido'].dropna().unique():\n",
    "            print(f\"\\nConstruindo trajeto para o Sentido: {sentido_id}...\")\n",
    "            pontos_sentido = gdf_operacao[gdf_operacao['sentido'] == sentido_id].copy()\n",
    "            if len(pontos_sentido) < 2: continue\n",
    "            \n",
    "            dist_media_A = pontos_sentido.head(10).geometry.distance(terminal_A).mean()\n",
    "            dist_media_B = pontos_sentido.head(10).geometry.distance(terminal_B).mean()\n",
    "            terminal_partida = terminal_A if dist_media_A < dist_media_B else terminal_B\n",
    "            \n",
    "            pontos_sentido['distancia_partida'] = pontos_sentido.geometry.distance(terminal_partida)\n",
    "            pontos_ordenados = pontos_sentido.sort_values('distancia_partida')\n",
    "            \n",
    "            linha_ordenada = LineString(pontos_ordenados.geometry.tolist())\n",
    "            trajeto_simplificado = linha_ordenada.simplify(tolerance=0.0001, preserve_topology=True)\n",
    "            trajetos_finais[sentido_id] = trajeto_simplificado\n",
    "            print(f\"  - Trajeto para o sentido {sentido_id} criado com sucesso.\")\n",
    "            \n",
    "        # Visualização Final \n",
    "        fig, ax = plt.subplots(1, 1, figsize=(14, 10))\n",
    "        if not gdf_operacao[gdf_operacao['sentido'].notna()].empty:\n",
    "            amostra = gdf_operacao.dropna(subset=['sentido']).sample(min(5000, len(gdf_operacao.dropna(subset=['sentido']))))\n",
    "            amostra.plot(ax=ax, column='sentido', categorical=True, markersize=1, alpha=0.2, legend=True)\n",
    "        if trajetos_finais:\n",
    "            gpd.GeoSeries(trajetos_finais).plot(ax=ax, color='black', linewidth=3, linestyle='--', label='Caminho Canônico')\n",
    "        gpd.GeoSeries([terminal_A, terminal_B]).plot(ax=ax, color='gold', marker='*', markersize=200, edgecolor='black', label='Terminais')\n",
    "        plt.title(\"Resultado Final: Caminhos Canônicos Ordenados\")\n",
    "        plt.legend()\n",
    "        plt.grid(True)\n",
    "        plt.show()"
   ]
  },
  {
   "cell_type": "markdown",
   "id": "398fbded",
   "metadata": {},
   "source": [
    "## Calcular distâncias"
   ]
  },
  {
   "cell_type": "code",
   "execution_count": null,
   "id": "cc903607",
   "metadata": {},
   "outputs": [
    {
     "name": "stdout",
     "output_type": "stream",
     "text": [
      "Coluna 'distancia_trajeto' criada com sucesso.\n"
     ]
    },
    {
     "data": {
      "application/vnd.microsoft.datawrangler.viewer.v0+json": {
       "columns": [
        {
         "name": "index",
         "rawType": "int64",
         "type": "integer"
        },
        {
         "name": "ordem",
         "rawType": "object",
         "type": "string"
        },
        {
         "name": "datahoraservidor",
         "rawType": "datetime64[ns]",
         "type": "datetime"
        },
        {
         "name": "sentido",
         "rawType": "float64",
         "type": "float"
        },
        {
         "name": "distancia_trajeto",
         "rawType": "float64",
         "type": "float"
        }
       ],
       "ref": "eefbd09e-3005-455e-91c6-135384bc9413",
       "rows": [
        [
         "8751",
         "B51539",
         "2024-04-25 09:10:05",
         "1.0",
         "93.30709352584226"
        ],
        [
         "8792",
         "B51539",
         "2024-04-25 09:10:35",
         "1.0",
         "92.03740255134929"
        ],
        [
         "9019",
         "B51539",
         "2024-04-25 09:11:06",
         "1.0",
         "91.17223605085836"
        ],
        [
         "9055",
         "B51539",
         "2024-04-25 09:11:37",
         "1.0",
         "90.78243655218131"
        ],
        [
         "9142",
         "B51539",
         "2024-04-25 09:12:07",
         "1.0",
         "90.71030297254386"
        ]
       ],
       "shape": {
        "columns": 4,
        "rows": 5
       }
      },
      "text/html": [
       "<div>\n",
       "<style scoped>\n",
       "    .dataframe tbody tr th:only-of-type {\n",
       "        vertical-align: middle;\n",
       "    }\n",
       "\n",
       "    .dataframe tbody tr th {\n",
       "        vertical-align: top;\n",
       "    }\n",
       "\n",
       "    .dataframe thead th {\n",
       "        text-align: right;\n",
       "    }\n",
       "</style>\n",
       "<table border=\"1\" class=\"dataframe\">\n",
       "  <thead>\n",
       "    <tr style=\"text-align: right;\">\n",
       "      <th></th>\n",
       "      <th>ordem</th>\n",
       "      <th>datahoraservidor</th>\n",
       "      <th>sentido</th>\n",
       "      <th>distancia_trajeto</th>\n",
       "    </tr>\n",
       "  </thead>\n",
       "  <tbody>\n",
       "    <tr>\n",
       "      <th>8751</th>\n",
       "      <td>B51539</td>\n",
       "      <td>2024-04-25 09:10:05</td>\n",
       "      <td>1.0</td>\n",
       "      <td>93.307094</td>\n",
       "    </tr>\n",
       "    <tr>\n",
       "      <th>8792</th>\n",
       "      <td>B51539</td>\n",
       "      <td>2024-04-25 09:10:35</td>\n",
       "      <td>1.0</td>\n",
       "      <td>92.037403</td>\n",
       "    </tr>\n",
       "    <tr>\n",
       "      <th>9019</th>\n",
       "      <td>B51539</td>\n",
       "      <td>2024-04-25 09:11:06</td>\n",
       "      <td>1.0</td>\n",
       "      <td>91.172236</td>\n",
       "    </tr>\n",
       "    <tr>\n",
       "      <th>9055</th>\n",
       "      <td>B51539</td>\n",
       "      <td>2024-04-25 09:11:37</td>\n",
       "      <td>1.0</td>\n",
       "      <td>90.782437</td>\n",
       "    </tr>\n",
       "    <tr>\n",
       "      <th>9142</th>\n",
       "      <td>B51539</td>\n",
       "      <td>2024-04-25 09:12:07</td>\n",
       "      <td>1.0</td>\n",
       "      <td>90.710303</td>\n",
       "    </tr>\n",
       "  </tbody>\n",
       "</table>\n",
       "</div>"
      ],
      "text/plain": [
       "       ordem    datahoraservidor  sentido  distancia_trajeto\n",
       "8751  B51539 2024-04-25 09:10:05      1.0          93.307094\n",
       "8792  B51539 2024-04-25 09:10:35      1.0          92.037403\n",
       "9019  B51539 2024-04-25 09:11:06      1.0          91.172236\n",
       "9055  B51539 2024-04-25 09:11:37      1.0          90.782437\n",
       "9142  B51539 2024-04-25 09:12:07      1.0          90.710303"
      ]
     },
     "metadata": {},
     "output_type": "display_data"
    }
   ],
   "source": [
    "def calcular_distancia_no_trajeto(row, trajetos_dict):\n",
    "    # Pega a geometria do ponto e o seu sentido\n",
    "    ponto = row['geom']\n",
    "    sentido = row['sentido']\n",
    "    \n",
    "    # Seleciona o trajeto correto (ida ou volta)\n",
    "    trajeto = trajetos_dict.get(sentido)\n",
    "    \n",
    "    if trajeto:\n",
    "        return trajeto.project(ponto)\n",
    "    \n",
    "    return None\n",
    "\n",
    "# Aplica a função para criar a nova coluna 'distancia_trajeto'\n",
    "# Usamos apenas os dados que têm um sentido definido\n",
    "gdf_com_sentido = gdf_operacao.dropna(subset=['sentido']).copy()\n",
    "gdf_com_sentido['distancia_trajeto'] = gdf_com_sentido.apply(\n",
    "    lambda row: calcular_distancia_no_trajeto(row, trajetos_finais),\n",
    "    axis=1\n",
    ")\n",
    "\n",
    "print(\"Coluna 'distancia_trajeto' criada com sucesso.\")\n",
    "display(gdf_com_sentido[['ordem', 'datahoraservidor', 'sentido', 'distancia_trajeto']].head())"
   ]
  },
  {
   "cell_type": "markdown",
   "id": "6ccadbfa",
   "metadata": {},
   "source": [
    "## Features de Tempo"
   ]
  },
  {
   "cell_type": "code",
   "execution_count": null,
   "id": "234e5355",
   "metadata": {},
   "outputs": [
    {
     "name": "stdout",
     "output_type": "stream",
     "text": [
      "Features de tempo criadas com sucesso:\n"
     ]
    },
    {
     "data": {
      "application/vnd.microsoft.datawrangler.viewer.v0+json": {
       "columns": [
        {
         "name": "index",
         "rawType": "int64",
         "type": "integer"
        },
        {
         "name": "datahoraservidor",
         "rawType": "datetime64[ns]",
         "type": "datetime"
        },
        {
         "name": "hora_do_dia",
         "rawType": "int32",
         "type": "integer"
        },
        {
         "name": "minuto_do_dia",
         "rawType": "int32",
         "type": "integer"
        },
        {
         "name": "dia_da_semana",
         "rawType": "int32",
         "type": "integer"
        },
        {
         "name": "fim_de_semana",
         "rawType": "int64",
         "type": "integer"
        }
       ],
       "ref": "9f256c41-835b-47ef-a30d-ce1ed0f1422c",
       "rows": [
        [
         "8751",
         "2024-04-25 09:10:05",
         "9",
         "550",
         "3",
         "0"
        ],
        [
         "8792",
         "2024-04-25 09:10:35",
         "9",
         "550",
         "3",
         "0"
        ],
        [
         "9019",
         "2024-04-25 09:11:06",
         "9",
         "551",
         "3",
         "0"
        ],
        [
         "9055",
         "2024-04-25 09:11:37",
         "9",
         "551",
         "3",
         "0"
        ],
        [
         "9142",
         "2024-04-25 09:12:07",
         "9",
         "552",
         "3",
         "0"
        ]
       ],
       "shape": {
        "columns": 5,
        "rows": 5
       }
      },
      "text/html": [
       "<div>\n",
       "<style scoped>\n",
       "    .dataframe tbody tr th:only-of-type {\n",
       "        vertical-align: middle;\n",
       "    }\n",
       "\n",
       "    .dataframe tbody tr th {\n",
       "        vertical-align: top;\n",
       "    }\n",
       "\n",
       "    .dataframe thead th {\n",
       "        text-align: right;\n",
       "    }\n",
       "</style>\n",
       "<table border=\"1\" class=\"dataframe\">\n",
       "  <thead>\n",
       "    <tr style=\"text-align: right;\">\n",
       "      <th></th>\n",
       "      <th>datahoraservidor</th>\n",
       "      <th>hora_do_dia</th>\n",
       "      <th>minuto_do_dia</th>\n",
       "      <th>dia_da_semana</th>\n",
       "      <th>fim_de_semana</th>\n",
       "    </tr>\n",
       "  </thead>\n",
       "  <tbody>\n",
       "    <tr>\n",
       "      <th>8751</th>\n",
       "      <td>2024-04-25 09:10:05</td>\n",
       "      <td>9</td>\n",
       "      <td>550</td>\n",
       "      <td>3</td>\n",
       "      <td>0</td>\n",
       "    </tr>\n",
       "    <tr>\n",
       "      <th>8792</th>\n",
       "      <td>2024-04-25 09:10:35</td>\n",
       "      <td>9</td>\n",
       "      <td>550</td>\n",
       "      <td>3</td>\n",
       "      <td>0</td>\n",
       "    </tr>\n",
       "    <tr>\n",
       "      <th>9019</th>\n",
       "      <td>2024-04-25 09:11:06</td>\n",
       "      <td>9</td>\n",
       "      <td>551</td>\n",
       "      <td>3</td>\n",
       "      <td>0</td>\n",
       "    </tr>\n",
       "    <tr>\n",
       "      <th>9055</th>\n",
       "      <td>2024-04-25 09:11:37</td>\n",
       "      <td>9</td>\n",
       "      <td>551</td>\n",
       "      <td>3</td>\n",
       "      <td>0</td>\n",
       "    </tr>\n",
       "    <tr>\n",
       "      <th>9142</th>\n",
       "      <td>2024-04-25 09:12:07</td>\n",
       "      <td>9</td>\n",
       "      <td>552</td>\n",
       "      <td>3</td>\n",
       "      <td>0</td>\n",
       "    </tr>\n",
       "  </tbody>\n",
       "</table>\n",
       "</div>"
      ],
      "text/plain": [
       "        datahoraservidor  hora_do_dia  minuto_do_dia  dia_da_semana  \\\n",
       "8751 2024-04-25 09:10:05            9            550              3   \n",
       "8792 2024-04-25 09:10:35            9            550              3   \n",
       "9019 2024-04-25 09:11:06            9            551              3   \n",
       "9055 2024-04-25 09:11:37            9            551              3   \n",
       "9142 2024-04-25 09:12:07            9            552              3   \n",
       "\n",
       "      fim_de_semana  \n",
       "8751              0  \n",
       "8792              0  \n",
       "9019              0  \n",
       "9055              0  \n",
       "9142              0  "
      ]
     },
     "metadata": {},
     "output_type": "display_data"
    }
   ],
   "source": [
    "# Hora do dia (formato 24h, de 0 a 23)\n",
    "# Ajuda o modelo a entender padrões gerais como \"manhã\", \"tarde\", \"noite\"\n",
    "gdf_com_sentido['hora_do_dia'] = gdf_com_sentido['datahoraservidor'].dt.hour\n",
    "\n",
    "# Dia da semana\n",
    "# Essencial para diferenciar dias úteis de fins de semana\n",
    "# Onde: Segunda-feira=0, Terça-feira=1, ..., Domingo=6\n",
    "gdf_com_sentido['dia_da_semana'] = gdf_com_sentido['datahoraservidor'].dt.dayofweek\n",
    "\n",
    "# Minuto do dia (de 0 a 1439)\n",
    "# Uma feature contínua que representa o fluxo do dia\n",
    "gdf_com_sentido['minuto_do_dia'] = gdf_com_sentido['datahoraservidor'].dt.hour * 60 + gdf_com_sentido['datahoraservidor'].dt.minute\n",
    "\n",
    "# Fim de semana (Booleano/Binário)\n",
    "gdf_com_sentido['fim_de_semana'] = (gdf_com_sentido['dia_da_semana'] >= 5).astype(int)\n",
    "\n",
    "\n",
    "# Verificação \n",
    "print(\"Features de tempo criadas com sucesso:\")\n",
    "\n",
    "display(\n",
    "    gdf_com_sentido[[\n",
    "        'datahoraservidor',\n",
    "        'hora_do_dia',\n",
    "        'minuto_do_dia',\n",
    "        'dia_da_semana',\n",
    "        'fim_de_semana'\n",
    "    ]].head()\n",
    ")"
   ]
  },
  {
   "cell_type": "markdown",
   "id": "dea263bb",
   "metadata": {},
   "source": [
    "## Feature Velocidade"
   ]
  },
  {
   "cell_type": "code",
   "execution_count": null,
   "id": "06d18639",
   "metadata": {},
   "outputs": [
    {
     "name": "stdout",
     "output_type": "stream",
     "text": [
      "Feature 'velocidade_recente_media' criada com sucesso.\n",
      "Note como o valor é uma média suavizada da coluna 'velocidade'.\n"
     ]
    },
    {
     "name": "stderr",
     "output_type": "stream",
     "text": [
      "C:\\Users\\gupes\\AppData\\Local\\Temp\\ipykernel_16568\\338762105.py:22: FutureWarning: A value is trying to be set on a copy of a DataFrame or Series through chained assignment using an inplace method.\n",
      "The behavior will change in pandas 3.0. This inplace method will never work because the intermediate object on which we are setting values always behaves as a copy.\n",
      "\n",
      "For example, when doing 'df[col].method(value, inplace=True)', try using 'df.method({col: value}, inplace=True)' or df[col] = df[col].method(value) instead, to perform the operation inplace on the original object.\n",
      "\n",
      "\n",
      "  gdf_com_sentido['velocidade_recente_media'].fillna(method='ffill', inplace=True)\n",
      "C:\\Users\\gupes\\AppData\\Local\\Temp\\ipykernel_16568\\338762105.py:22: FutureWarning: Series.fillna with 'method' is deprecated and will raise in a future version. Use obj.ffill() or obj.bfill() instead.\n",
      "  gdf_com_sentido['velocidade_recente_media'].fillna(method='ffill', inplace=True)\n",
      "C:\\Users\\gupes\\AppData\\Local\\Temp\\ipykernel_16568\\338762105.py:23: FutureWarning: A value is trying to be set on a copy of a DataFrame or Series through chained assignment using an inplace method.\n",
      "The behavior will change in pandas 3.0. This inplace method will never work because the intermediate object on which we are setting values always behaves as a copy.\n",
      "\n",
      "For example, when doing 'df[col].method(value, inplace=True)', try using 'df.method({col: value}, inplace=True)' or df[col] = df[col].method(value) instead, to perform the operation inplace on the original object.\n",
      "\n",
      "\n",
      "  gdf_com_sentido['velocidade_recente_media'].fillna(0, inplace=True) # Preenche qualquer NaN restante com 0\n"
     ]
    },
    {
     "data": {
      "application/vnd.microsoft.datawrangler.viewer.v0+json": {
       "columns": [
        {
         "name": "index",
         "rawType": "int64",
         "type": "integer"
        },
        {
         "name": "ordem",
         "rawType": "object",
         "type": "string"
        },
        {
         "name": "datahoraservidor",
         "rawType": "datetime64[ns]",
         "type": "datetime"
        },
        {
         "name": "velocidade",
         "rawType": "int64",
         "type": "integer"
        },
        {
         "name": "velocidade_recente_media",
         "rawType": "float64",
         "type": "float"
        }
       ],
       "ref": "aa099687-9cca-4fc1-903f-154a51a3fb5f",
       "rows": [
        [
         "8751",
         "B51539",
         "2024-04-25 09:10:05",
         "22",
         "22.0"
        ],
        [
         "8792",
         "B51539",
         "2024-04-25 09:10:35",
         "40",
         "31.0"
        ],
        [
         "9019",
         "B51539",
         "2024-04-25 09:11:06",
         "42",
         "34.666666666666664"
        ],
        [
         "9055",
         "B51539",
         "2024-04-25 09:11:37",
         "31",
         "33.75"
        ],
        [
         "9142",
         "B51539",
         "2024-04-25 09:12:07",
         "9",
         "28.8"
        ],
        [
         "8834",
         "B51539",
         "2024-04-25 09:12:38",
         "20",
         "28.4"
        ],
        [
         "9182",
         "B51539",
         "2024-04-25 09:13:09",
         "0",
         "20.4"
        ],
        [
         "8887",
         "B51539",
         "2024-04-25 09:13:40",
         "27",
         "17.4"
        ],
        [
         "148172",
         "B51566",
         "2024-04-26 16:57:39",
         "22",
         "22.0"
        ],
        [
         "148443",
         "B51566",
         "2024-04-26 16:58:40",
         "22",
         "22.0"
        ]
       ],
       "shape": {
        "columns": 4,
        "rows": 10
       }
      },
      "text/html": [
       "<div>\n",
       "<style scoped>\n",
       "    .dataframe tbody tr th:only-of-type {\n",
       "        vertical-align: middle;\n",
       "    }\n",
       "\n",
       "    .dataframe tbody tr th {\n",
       "        vertical-align: top;\n",
       "    }\n",
       "\n",
       "    .dataframe thead th {\n",
       "        text-align: right;\n",
       "    }\n",
       "</style>\n",
       "<table border=\"1\" class=\"dataframe\">\n",
       "  <thead>\n",
       "    <tr style=\"text-align: right;\">\n",
       "      <th></th>\n",
       "      <th>ordem</th>\n",
       "      <th>datahoraservidor</th>\n",
       "      <th>velocidade</th>\n",
       "      <th>velocidade_recente_media</th>\n",
       "    </tr>\n",
       "  </thead>\n",
       "  <tbody>\n",
       "    <tr>\n",
       "      <th>8751</th>\n",
       "      <td>B51539</td>\n",
       "      <td>2024-04-25 09:10:05</td>\n",
       "      <td>22</td>\n",
       "      <td>22.000000</td>\n",
       "    </tr>\n",
       "    <tr>\n",
       "      <th>8792</th>\n",
       "      <td>B51539</td>\n",
       "      <td>2024-04-25 09:10:35</td>\n",
       "      <td>40</td>\n",
       "      <td>31.000000</td>\n",
       "    </tr>\n",
       "    <tr>\n",
       "      <th>9019</th>\n",
       "      <td>B51539</td>\n",
       "      <td>2024-04-25 09:11:06</td>\n",
       "      <td>42</td>\n",
       "      <td>34.666667</td>\n",
       "    </tr>\n",
       "    <tr>\n",
       "      <th>9055</th>\n",
       "      <td>B51539</td>\n",
       "      <td>2024-04-25 09:11:37</td>\n",
       "      <td>31</td>\n",
       "      <td>33.750000</td>\n",
       "    </tr>\n",
       "    <tr>\n",
       "      <th>9142</th>\n",
       "      <td>B51539</td>\n",
       "      <td>2024-04-25 09:12:07</td>\n",
       "      <td>9</td>\n",
       "      <td>28.800000</td>\n",
       "    </tr>\n",
       "    <tr>\n",
       "      <th>8834</th>\n",
       "      <td>B51539</td>\n",
       "      <td>2024-04-25 09:12:38</td>\n",
       "      <td>20</td>\n",
       "      <td>28.400000</td>\n",
       "    </tr>\n",
       "    <tr>\n",
       "      <th>9182</th>\n",
       "      <td>B51539</td>\n",
       "      <td>2024-04-25 09:13:09</td>\n",
       "      <td>0</td>\n",
       "      <td>20.400000</td>\n",
       "    </tr>\n",
       "    <tr>\n",
       "      <th>8887</th>\n",
       "      <td>B51539</td>\n",
       "      <td>2024-04-25 09:13:40</td>\n",
       "      <td>27</td>\n",
       "      <td>17.400000</td>\n",
       "    </tr>\n",
       "    <tr>\n",
       "      <th>148172</th>\n",
       "      <td>B51566</td>\n",
       "      <td>2024-04-26 16:57:39</td>\n",
       "      <td>22</td>\n",
       "      <td>22.000000</td>\n",
       "    </tr>\n",
       "    <tr>\n",
       "      <th>148443</th>\n",
       "      <td>B51566</td>\n",
       "      <td>2024-04-26 16:58:40</td>\n",
       "      <td>22</td>\n",
       "      <td>22.000000</td>\n",
       "    </tr>\n",
       "  </tbody>\n",
       "</table>\n",
       "</div>"
      ],
      "text/plain": [
       "         ordem    datahoraservidor  velocidade  velocidade_recente_media\n",
       "8751    B51539 2024-04-25 09:10:05          22                 22.000000\n",
       "8792    B51539 2024-04-25 09:10:35          40                 31.000000\n",
       "9019    B51539 2024-04-25 09:11:06          42                 34.666667\n",
       "9055    B51539 2024-04-25 09:11:37          31                 33.750000\n",
       "9142    B51539 2024-04-25 09:12:07           9                 28.800000\n",
       "8834    B51539 2024-04-25 09:12:38          20                 28.400000\n",
       "9182    B51539 2024-04-25 09:13:09           0                 20.400000\n",
       "8887    B51539 2024-04-25 09:13:40          27                 17.400000\n",
       "148172  B51566 2024-04-26 16:57:39          22                 22.000000\n",
       "148443  B51566 2024-04-26 16:58:40          22                 22.000000"
      ]
     },
     "metadata": {},
     "output_type": "display_data"
    }
   ],
   "source": [
    "# É crucial que os dados estejam ordenados por ônibus e depois por tempo\n",
    "# para que a média móvel seja calculada corretamente.\n",
    "gdf_com_sentido_sorted = gdf_com_sentido.sort_values(by=['ordem', 'datahoraservidor'])\n",
    "\n",
    "# --- Criação da Feature ---\n",
    "\n",
    "# Usamos groupby('ordem') para garantir que a média seja calculada apenas com os dados do mesmo ônibus\n",
    "rolling_mean = gdf_com_sentido_sorted.groupby('ordem')['velocidade'].rolling(window=5, min_periods=1).mean()\n",
    "\n",
    "# O resultado de groupby().rolling() tem um índice múltiplo.\n",
    "rolling_mean = rolling_mean.reset_index(level=0, drop=True)\n",
    "\n",
    "# Atribui a nova coluna ao nosso dataframe principal\n",
    "gdf_com_sentido['velocidade_recente_media'] = rolling_mean\n",
    "\n",
    "# Os primeiros registros de cada ônibus terão valores Nulos (NaN), pois não há 5 pontos anteriores.\n",
    "gdf_com_sentido['velocidade_recente_media'].fillna(method='ffill', inplace=True)\n",
    "gdf_com_sentido['velocidade_recente_media'].fillna(0, inplace=True) # Preenche qualquer NaN restante com 0\n",
    "\n",
    "\n",
    "# Verificação\n",
    "print(\"Feature 'velocidade_recente_media' criada com sucesso.\")\n",
    "print(\"Note como o valor é uma média suavizada da coluna 'velocidade'.\")\n",
    "\n",
    "# Mostra as colunas relevantes para comparar\n",
    "display(\n",
    "    gdf_com_sentido[[\n",
    "        'ordem',\n",
    "        'datahoraservidor',\n",
    "        'velocidade',\n",
    "        'velocidade_recente_media'\n",
    "    ]].head(10) # Mostra as 10 primeiras linhas\n",
    ")"
   ]
  },
  {
   "cell_type": "markdown",
   "id": "247f5afe",
   "metadata": {},
   "source": [
    "## Aceleração"
   ]
  },
  {
   "cell_type": "code",
   "execution_count": 8,
   "id": "63583dc7",
   "metadata": {},
   "outputs": [],
   "source": [
    "# Garante a ordem cronológica por ônibus\n",
    "gdf_sorted = gdf_com_sentido.sort_values(by=['ordem', 'datahoraservidor'])\n",
    "\n",
    "# .diff() calcula a diferença para a linha anterior\n",
    "gdf_com_sentido['aceleracao'] = gdf_sorted.groupby('ordem')['velocidade'].diff().fillna(0)"
   ]
  },
  {
   "cell_type": "markdown",
   "id": "373eee7e",
   "metadata": {},
   "source": [
    "## Desvio Padrão da Velocidade"
   ]
  },
  {
   "cell_type": "code",
   "execution_count": 9,
   "id": "14e543f2",
   "metadata": {},
   "outputs": [],
   "source": [
    "# Reutiliza o gdf_sorted e o groupby\n",
    "rolling_std = gdf_sorted.groupby('ordem')['velocidade'].rolling(window=5, min_periods=1).std()\n",
    "rolling_std = rolling_std.reset_index(level=0, drop=True)\n",
    "gdf_com_sentido['velocidade_std_recente'] = rolling_std.fillna(0)"
   ]
  },
  {
   "cell_type": "markdown",
   "id": "89760f44",
   "metadata": {},
   "source": [
    "## Rota e Geometria"
   ]
  },
  {
   "cell_type": "code",
   "execution_count": 10,
   "id": "1354f9b5",
   "metadata": {},
   "outputs": [],
   "source": [
    "# Primeiro, calcula o comprimento total de cada trajeto\n",
    "comprimento_trajetos = {sentido: trajeto.length for sentido, trajeto in trajetos_finais.items()}\n",
    "\n",
    "# Depois, calcula o percentual\n",
    "gdf_com_sentido['percentual_trajeto'] = gdf_com_sentido.apply(\n",
    "    lambda row: row['distancia_trajeto'] / comprimento_trajetos.get(row['sentido'], 1) if comprimento_trajetos.get(row['sentido']) else 0,\n",
    "    axis=1\n",
    ")"
   ]
  },
  {
   "cell_type": "markdown",
   "id": "b0fe125f",
   "metadata": {},
   "source": [
    "## Distância do Ponto Final"
   ]
  },
  {
   "cell_type": "code",
   "execution_count": 11,
   "id": "477cef02",
   "metadata": {},
   "outputs": [],
   "source": [
    "gdf_com_sentido['distancia_ate_final'] = gdf_com_sentido.apply(\n",
    "    lambda row: comprimento_trajetos.get(row['sentido'], 0) - row['distancia_trajeto'],\n",
    "    axis=1\n",
    ")"
   ]
  },
  {
   "cell_type": "markdown",
   "id": "8677f931",
   "metadata": {},
   "source": [
    "## Tempo Cíclico"
   ]
  },
  {
   "cell_type": "code",
   "execution_count": null,
   "id": "d30cb2b7",
   "metadata": {},
   "outputs": [],
   "source": [
    "# Para hora do dia (ciclo de 24h)\n",
    "gdf_com_sentido['hora_sin'] = np.sin(2 * np.pi * gdf_com_sentido['hora_do_dia']/24.0)\n",
    "gdf_com_sentido['hora_cos'] = np.cos(2 * np.pi * gdf_com_sentido['hora_do_dia']/24.0)\n",
    "\n",
    "# Para dia da semana (ciclo de 7 dias)\n",
    "gdf_com_sentido['dia_semana_sin'] = np.sin(2 * np.pi * gdf_com_sentido['dia_da_semana']/7.0)\n",
    "gdf_com_sentido['dia_semana_cos'] = np.cos(2 * np.pi * gdf_com_sentido['dia_da_semana']/7.0)\n",
    "\n",
    "# hora_sin' e 'hora_cos' no lugar de 'hora_do_dia'."
   ]
  }
 ],
 "metadata": {
  "kernelspec": {
   "display_name": "Python Datamining",
   "language": "python",
   "name": "datamining"
  },
  "language_info": {
   "codemirror_mode": {
    "name": "ipython",
    "version": 3
   },
   "file_extension": ".py",
   "mimetype": "text/x-python",
   "name": "python",
   "nbconvert_exporter": "python",
   "pygments_lexer": "ipython3",
   "version": "3.13.3"
  }
 },
 "nbformat": 4,
 "nbformat_minor": 5
}
